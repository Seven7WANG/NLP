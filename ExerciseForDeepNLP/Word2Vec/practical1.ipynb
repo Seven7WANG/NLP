{
 "cells": [
  {
   "cell_type": "markdown",
   "metadata": {},
   "source": [
    "## Practical 1: word2vec\n",
    "<p>Oxford CS - Deep NLP 2017<br>\n",
    "https://www.cs.ox.ac.uk/teaching/courses/2016-2017/dl/</p>\n",
    "<p>[Yannis Assael, Brendan Shillingford, Chris Dyer]</p>"
   ]
  },
  {
   "cell_type": "markdown",
   "metadata": {},
   "source": [
    "This practical is presented as an IPython Notebook, with the code written for recent versions of **Python 3**. The code in this practical will not work with Python 2 unless you modify it. If you are using your own Python installation, ensure you have a setup identical to that described in the installation shell script (which is intended for use with the department lab machines). We will be unable to support installation on personal machines due to time constraints, so please use the lab machines and the setup script if you are unfamiliar with how to install Anaconda.\n",
    "\n",
    "To execute a notebook cell, press `shift-enter`. The return value of the last command will be displayed, if it is not `None`.\n",
    "\n",
    "Potentially useful library documentation, references, and resources:\n",
    "\n",
    "* IPython notebooks: <https://ipython.org/ipython-doc/3/notebook/notebook.html#introduction>\n",
    "* Numpy numerical array library: <https://docs.scipy.org/doc/>\n",
    "* Gensim's word2vec: <https://radimrehurek.com/gensim/models/word2vec.html>\n",
    "* Bokeh interactive plots: <http://bokeh.pydata.org/en/latest/> (we provide plotting code here, but click the thumbnails for more examples to copy-paste)\n",
    "* scikit-learn ML library (aka `sklearn`): <http://scikit-learn.org/stable/documentation.html>\n",
    "* nltk NLP toolkit: <http://www.nltk.org/>\n",
    "* tutorial for processing xml in python using `lxml`: <http://lxml.de/tutorial.html> (we did this for you below, but in case you need it in the future)"
   ]
  },
  {
   "cell_type": "code",
   "execution_count": 6,
   "metadata": {},
   "outputs": [
    {
     "name": "stdout",
     "output_type": "stream",
     "text": [
      "Processing /Users/sevenw/Library/Caches/pip/wheels/fb/f8/47/09700d9a19cbcbf0b7a3130690b75c0d6ff80fbda0b1774c7c/bokeh-1.4.0-cp37-none-any.whl\n",
      "Requirement already satisfied: six>=1.5.2 in /Users/sevenw/opt/miniconda3/lib/python3.7/site-packages (from bokeh) (1.12.0)\n",
      "Collecting packaging>=16.8\n",
      "  Using cached https://files.pythonhosted.org/packages/98/42/87c585dd3b113c775e65fd6b8d9d0a43abe1819c471d7af702d4e01e9b20/packaging-20.1-py2.py3-none-any.whl\n",
      "Requirement already satisfied: numpy>=1.7.1 in /Users/sevenw/opt/miniconda3/lib/python3.7/site-packages (from bokeh) (1.17.4)\n",
      "Requirement already satisfied: python-dateutil>=2.1 in /Users/sevenw/opt/miniconda3/lib/python3.7/site-packages (from bokeh) (2.8.1)\n",
      "Requirement already satisfied: tornado>=4.3 in /Users/sevenw/opt/miniconda3/lib/python3.7/site-packages (from bokeh) (6.0.3)\n",
      "Processing /Users/sevenw/Library/Caches/pip/wheels/e4/76/4d/a95b8dd7b452b69e8ed4f68b69e1b55e12c9c9624dd962b191/PyYAML-5.3-cp37-cp37m-macosx_10_13_x86_64.whl\n",
      "Requirement already satisfied: pillow>=4.0 in /Users/sevenw/opt/miniconda3/lib/python3.7/site-packages (from bokeh) (6.2.1)\n",
      "Requirement already satisfied: Jinja2>=2.7 in /Users/sevenw/opt/miniconda3/lib/python3.7/site-packages (from bokeh) (2.10.3)\n",
      "Requirement already satisfied: pyparsing>=2.0.2 in /Users/sevenw/opt/miniconda3/lib/python3.7/site-packages (from packaging>=16.8->bokeh) (2.4.5)\n",
      "Requirement already satisfied: MarkupSafe>=0.23 in /Users/sevenw/opt/miniconda3/lib/python3.7/site-packages (from Jinja2>=2.7->bokeh) (1.1.1)\n",
      "Installing collected packages: packaging, PyYAML, bokeh\n",
      "Successfully installed PyYAML-5.3 bokeh-1.4.0 packaging-20.1\n"
     ]
    }
   ],
   "source": [
    "import numpy as np\n",
    "import os\n",
    "from random import shuffle\n",
    "import re\n",
    "!pip install bokeh\n"
   ]
  },
  {
   "cell_type": "code",
   "execution_count": 7,
   "metadata": {},
   "outputs": [
    {
     "data": {
      "text/html": [
       "\n",
       "    <div class=\"bk-root\">\n",
       "        <a href=\"https://bokeh.org\" target=\"_blank\" class=\"bk-logo bk-logo-small bk-logo-notebook\"></a>\n",
       "        <span id=\"1001\">Loading BokehJS ...</span>\n",
       "    </div>"
      ]
     },
     "metadata": {},
     "output_type": "display_data"
    },
    {
     "data": {
      "application/javascript": [
       "\n",
       "(function(root) {\n",
       "  function now() {\n",
       "    return new Date();\n",
       "  }\n",
       "\n",
       "  var force = true;\n",
       "\n",
       "  if (typeof root._bokeh_onload_callbacks === \"undefined\" || force === true) {\n",
       "    root._bokeh_onload_callbacks = [];\n",
       "    root._bokeh_is_loading = undefined;\n",
       "  }\n",
       "\n",
       "  var JS_MIME_TYPE = 'application/javascript';\n",
       "  var HTML_MIME_TYPE = 'text/html';\n",
       "  var EXEC_MIME_TYPE = 'application/vnd.bokehjs_exec.v0+json';\n",
       "  var CLASS_NAME = 'output_bokeh rendered_html';\n",
       "\n",
       "  /**\n",
       "   * Render data to the DOM node\n",
       "   */\n",
       "  function render(props, node) {\n",
       "    var script = document.createElement(\"script\");\n",
       "    node.appendChild(script);\n",
       "  }\n",
       "\n",
       "  /**\n",
       "   * Handle when an output is cleared or removed\n",
       "   */\n",
       "  function handleClearOutput(event, handle) {\n",
       "    var cell = handle.cell;\n",
       "\n",
       "    var id = cell.output_area._bokeh_element_id;\n",
       "    var server_id = cell.output_area._bokeh_server_id;\n",
       "    // Clean up Bokeh references\n",
       "    if (id != null && id in Bokeh.index) {\n",
       "      Bokeh.index[id].model.document.clear();\n",
       "      delete Bokeh.index[id];\n",
       "    }\n",
       "\n",
       "    if (server_id !== undefined) {\n",
       "      // Clean up Bokeh references\n",
       "      var cmd = \"from bokeh.io.state import curstate; print(curstate().uuid_to_server['\" + server_id + \"'].get_sessions()[0].document.roots[0]._id)\";\n",
       "      cell.notebook.kernel.execute(cmd, {\n",
       "        iopub: {\n",
       "          output: function(msg) {\n",
       "            var id = msg.content.text.trim();\n",
       "            if (id in Bokeh.index) {\n",
       "              Bokeh.index[id].model.document.clear();\n",
       "              delete Bokeh.index[id];\n",
       "            }\n",
       "          }\n",
       "        }\n",
       "      });\n",
       "      // Destroy server and session\n",
       "      var cmd = \"import bokeh.io.notebook as ion; ion.destroy_server('\" + server_id + \"')\";\n",
       "      cell.notebook.kernel.execute(cmd);\n",
       "    }\n",
       "  }\n",
       "\n",
       "  /**\n",
       "   * Handle when a new output is added\n",
       "   */\n",
       "  function handleAddOutput(event, handle) {\n",
       "    var output_area = handle.output_area;\n",
       "    var output = handle.output;\n",
       "\n",
       "    // limit handleAddOutput to display_data with EXEC_MIME_TYPE content only\n",
       "    if ((output.output_type != \"display_data\") || (!output.data.hasOwnProperty(EXEC_MIME_TYPE))) {\n",
       "      return\n",
       "    }\n",
       "\n",
       "    var toinsert = output_area.element.find(\".\" + CLASS_NAME.split(' ')[0]);\n",
       "\n",
       "    if (output.metadata[EXEC_MIME_TYPE][\"id\"] !== undefined) {\n",
       "      toinsert[toinsert.length - 1].firstChild.textContent = output.data[JS_MIME_TYPE];\n",
       "      // store reference to embed id on output_area\n",
       "      output_area._bokeh_element_id = output.metadata[EXEC_MIME_TYPE][\"id\"];\n",
       "    }\n",
       "    if (output.metadata[EXEC_MIME_TYPE][\"server_id\"] !== undefined) {\n",
       "      var bk_div = document.createElement(\"div\");\n",
       "      bk_div.innerHTML = output.data[HTML_MIME_TYPE];\n",
       "      var script_attrs = bk_div.children[0].attributes;\n",
       "      for (var i = 0; i < script_attrs.length; i++) {\n",
       "        toinsert[toinsert.length - 1].firstChild.setAttribute(script_attrs[i].name, script_attrs[i].value);\n",
       "      }\n",
       "      // store reference to server id on output_area\n",
       "      output_area._bokeh_server_id = output.metadata[EXEC_MIME_TYPE][\"server_id\"];\n",
       "    }\n",
       "  }\n",
       "\n",
       "  function register_renderer(events, OutputArea) {\n",
       "\n",
       "    function append_mime(data, metadata, element) {\n",
       "      // create a DOM node to render to\n",
       "      var toinsert = this.create_output_subarea(\n",
       "        metadata,\n",
       "        CLASS_NAME,\n",
       "        EXEC_MIME_TYPE\n",
       "      );\n",
       "      this.keyboard_manager.register_events(toinsert);\n",
       "      // Render to node\n",
       "      var props = {data: data, metadata: metadata[EXEC_MIME_TYPE]};\n",
       "      render(props, toinsert[toinsert.length - 1]);\n",
       "      element.append(toinsert);\n",
       "      return toinsert\n",
       "    }\n",
       "\n",
       "    /* Handle when an output is cleared or removed */\n",
       "    events.on('clear_output.CodeCell', handleClearOutput);\n",
       "    events.on('delete.Cell', handleClearOutput);\n",
       "\n",
       "    /* Handle when a new output is added */\n",
       "    events.on('output_added.OutputArea', handleAddOutput);\n",
       "\n",
       "    /**\n",
       "     * Register the mime type and append_mime function with output_area\n",
       "     */\n",
       "    OutputArea.prototype.register_mime_type(EXEC_MIME_TYPE, append_mime, {\n",
       "      /* Is output safe? */\n",
       "      safe: true,\n",
       "      /* Index of renderer in `output_area.display_order` */\n",
       "      index: 0\n",
       "    });\n",
       "  }\n",
       "\n",
       "  // register the mime type if in Jupyter Notebook environment and previously unregistered\n",
       "  if (root.Jupyter !== undefined) {\n",
       "    var events = require('base/js/events');\n",
       "    var OutputArea = require('notebook/js/outputarea').OutputArea;\n",
       "\n",
       "    if (OutputArea.prototype.mime_types().indexOf(EXEC_MIME_TYPE) == -1) {\n",
       "      register_renderer(events, OutputArea);\n",
       "    }\n",
       "  }\n",
       "\n",
       "  \n",
       "  if (typeof (root._bokeh_timeout) === \"undefined\" || force === true) {\n",
       "    root._bokeh_timeout = Date.now() + 5000;\n",
       "    root._bokeh_failed_load = false;\n",
       "  }\n",
       "\n",
       "  var NB_LOAD_WARNING = {'data': {'text/html':\n",
       "     \"<div style='background-color: #fdd'>\\n\"+\n",
       "     \"<p>\\n\"+\n",
       "     \"BokehJS does not appear to have successfully loaded. If loading BokehJS from CDN, this \\n\"+\n",
       "     \"may be due to a slow or bad network connection. Possible fixes:\\n\"+\n",
       "     \"</p>\\n\"+\n",
       "     \"<ul>\\n\"+\n",
       "     \"<li>re-rerun `output_notebook()` to attempt to load from CDN again, or</li>\\n\"+\n",
       "     \"<li>use INLINE resources instead, as so:</li>\\n\"+\n",
       "     \"</ul>\\n\"+\n",
       "     \"<code>\\n\"+\n",
       "     \"from bokeh.resources import INLINE\\n\"+\n",
       "     \"output_notebook(resources=INLINE)\\n\"+\n",
       "     \"</code>\\n\"+\n",
       "     \"</div>\"}};\n",
       "\n",
       "  function display_loaded() {\n",
       "    var el = document.getElementById(\"1001\");\n",
       "    if (el != null) {\n",
       "      el.textContent = \"BokehJS is loading...\";\n",
       "    }\n",
       "    if (root.Bokeh !== undefined) {\n",
       "      if (el != null) {\n",
       "        el.textContent = \"BokehJS \" + root.Bokeh.version + \" successfully loaded.\";\n",
       "      }\n",
       "    } else if (Date.now() < root._bokeh_timeout) {\n",
       "      setTimeout(display_loaded, 100)\n",
       "    }\n",
       "  }\n",
       "\n",
       "\n",
       "  function run_callbacks() {\n",
       "    try {\n",
       "      root._bokeh_onload_callbacks.forEach(function(callback) {\n",
       "        if (callback != null)\n",
       "          callback();\n",
       "      });\n",
       "    } finally {\n",
       "      delete root._bokeh_onload_callbacks\n",
       "    }\n",
       "    console.debug(\"Bokeh: all callbacks have finished\");\n",
       "  }\n",
       "\n",
       "  function load_libs(css_urls, js_urls, callback) {\n",
       "    if (css_urls == null) css_urls = [];\n",
       "    if (js_urls == null) js_urls = [];\n",
       "\n",
       "    root._bokeh_onload_callbacks.push(callback);\n",
       "    if (root._bokeh_is_loading > 0) {\n",
       "      console.debug(\"Bokeh: BokehJS is being loaded, scheduling callback at\", now());\n",
       "      return null;\n",
       "    }\n",
       "    if (js_urls == null || js_urls.length === 0) {\n",
       "      run_callbacks();\n",
       "      return null;\n",
       "    }\n",
       "    console.debug(\"Bokeh: BokehJS not loaded, scheduling load and callback at\", now());\n",
       "    root._bokeh_is_loading = css_urls.length + js_urls.length;\n",
       "\n",
       "    function on_load() {\n",
       "      root._bokeh_is_loading--;\n",
       "      if (root._bokeh_is_loading === 0) {\n",
       "        console.debug(\"Bokeh: all BokehJS libraries/stylesheets loaded\");\n",
       "        run_callbacks()\n",
       "      }\n",
       "    }\n",
       "\n",
       "    function on_error() {\n",
       "      console.error(\"failed to load \" + url);\n",
       "    }\n",
       "\n",
       "    for (var i = 0; i < css_urls.length; i++) {\n",
       "      var url = css_urls[i];\n",
       "      const element = document.createElement(\"link\");\n",
       "      element.onload = on_load;\n",
       "      element.onerror = on_error;\n",
       "      element.rel = \"stylesheet\";\n",
       "      element.type = \"text/css\";\n",
       "      element.href = url;\n",
       "      console.debug(\"Bokeh: injecting link tag for BokehJS stylesheet: \", url);\n",
       "      document.body.appendChild(element);\n",
       "    }\n",
       "\n",
       "    for (var i = 0; i < js_urls.length; i++) {\n",
       "      var url = js_urls[i];\n",
       "      var element = document.createElement('script');\n",
       "      element.onload = on_load;\n",
       "      element.onerror = on_error;\n",
       "      element.async = false;\n",
       "      element.src = url;\n",
       "      console.debug(\"Bokeh: injecting script tag for BokehJS library: \", url);\n",
       "      document.head.appendChild(element);\n",
       "    }\n",
       "  };var element = document.getElementById(\"1001\");\n",
       "  if (element == null) {\n",
       "    console.error(\"Bokeh: ERROR: autoload.js configured with elementid '1001' but no matching script tag was found. \")\n",
       "    return false;\n",
       "  }\n",
       "\n",
       "  function inject_raw_css(css) {\n",
       "    const element = document.createElement(\"style\");\n",
       "    element.appendChild(document.createTextNode(css));\n",
       "    document.body.appendChild(element);\n",
       "  }\n",
       "\n",
       "  \n",
       "  var js_urls = [\"https://cdn.pydata.org/bokeh/release/bokeh-1.4.0.min.js\", \"https://cdn.pydata.org/bokeh/release/bokeh-widgets-1.4.0.min.js\", \"https://cdn.pydata.org/bokeh/release/bokeh-tables-1.4.0.min.js\", \"https://cdn.pydata.org/bokeh/release/bokeh-gl-1.4.0.min.js\"];\n",
       "  var css_urls = [];\n",
       "  \n",
       "\n",
       "  var inline_js = [\n",
       "    function(Bokeh) {\n",
       "      Bokeh.set_log_level(\"info\");\n",
       "    },\n",
       "    function(Bokeh) {\n",
       "    \n",
       "    \n",
       "    }\n",
       "  ];\n",
       "\n",
       "  function run_inline_js() {\n",
       "    \n",
       "    if (root.Bokeh !== undefined || force === true) {\n",
       "      \n",
       "    for (var i = 0; i < inline_js.length; i++) {\n",
       "      inline_js[i].call(root, root.Bokeh);\n",
       "    }\n",
       "    if (force === true) {\n",
       "        display_loaded();\n",
       "      }} else if (Date.now() < root._bokeh_timeout) {\n",
       "      setTimeout(run_inline_js, 100);\n",
       "    } else if (!root._bokeh_failed_load) {\n",
       "      console.log(\"Bokeh: BokehJS failed to load within specified timeout.\");\n",
       "      root._bokeh_failed_load = true;\n",
       "    } else if (force !== true) {\n",
       "      var cell = $(document.getElementById(\"1001\")).parents('.cell').data().cell;\n",
       "      cell.output_area.append_execute_result(NB_LOAD_WARNING)\n",
       "    }\n",
       "\n",
       "  }\n",
       "\n",
       "  if (root._bokeh_is_loading === 0) {\n",
       "    console.debug(\"Bokeh: BokehJS loaded, going straight to plotting\");\n",
       "    run_inline_js();\n",
       "  } else {\n",
       "    load_libs(css_urls, js_urls, function() {\n",
       "      console.debug(\"Bokeh: BokehJS plotting callback run at\", now());\n",
       "      run_inline_js();\n",
       "    });\n",
       "  }\n",
       "}(window));"
      ],
      "application/vnd.bokehjs_load.v0+json": "\n(function(root) {\n  function now() {\n    return new Date();\n  }\n\n  var force = true;\n\n  if (typeof root._bokeh_onload_callbacks === \"undefined\" || force === true) {\n    root._bokeh_onload_callbacks = [];\n    root._bokeh_is_loading = undefined;\n  }\n\n  \n\n  \n  if (typeof (root._bokeh_timeout) === \"undefined\" || force === true) {\n    root._bokeh_timeout = Date.now() + 5000;\n    root._bokeh_failed_load = false;\n  }\n\n  var NB_LOAD_WARNING = {'data': {'text/html':\n     \"<div style='background-color: #fdd'>\\n\"+\n     \"<p>\\n\"+\n     \"BokehJS does not appear to have successfully loaded. If loading BokehJS from CDN, this \\n\"+\n     \"may be due to a slow or bad network connection. Possible fixes:\\n\"+\n     \"</p>\\n\"+\n     \"<ul>\\n\"+\n     \"<li>re-rerun `output_notebook()` to attempt to load from CDN again, or</li>\\n\"+\n     \"<li>use INLINE resources instead, as so:</li>\\n\"+\n     \"</ul>\\n\"+\n     \"<code>\\n\"+\n     \"from bokeh.resources import INLINE\\n\"+\n     \"output_notebook(resources=INLINE)\\n\"+\n     \"</code>\\n\"+\n     \"</div>\"}};\n\n  function display_loaded() {\n    var el = document.getElementById(\"1001\");\n    if (el != null) {\n      el.textContent = \"BokehJS is loading...\";\n    }\n    if (root.Bokeh !== undefined) {\n      if (el != null) {\n        el.textContent = \"BokehJS \" + root.Bokeh.version + \" successfully loaded.\";\n      }\n    } else if (Date.now() < root._bokeh_timeout) {\n      setTimeout(display_loaded, 100)\n    }\n  }\n\n\n  function run_callbacks() {\n    try {\n      root._bokeh_onload_callbacks.forEach(function(callback) {\n        if (callback != null)\n          callback();\n      });\n    } finally {\n      delete root._bokeh_onload_callbacks\n    }\n    console.debug(\"Bokeh: all callbacks have finished\");\n  }\n\n  function load_libs(css_urls, js_urls, callback) {\n    if (css_urls == null) css_urls = [];\n    if (js_urls == null) js_urls = [];\n\n    root._bokeh_onload_callbacks.push(callback);\n    if (root._bokeh_is_loading > 0) {\n      console.debug(\"Bokeh: BokehJS is being loaded, scheduling callback at\", now());\n      return null;\n    }\n    if (js_urls == null || js_urls.length === 0) {\n      run_callbacks();\n      return null;\n    }\n    console.debug(\"Bokeh: BokehJS not loaded, scheduling load and callback at\", now());\n    root._bokeh_is_loading = css_urls.length + js_urls.length;\n\n    function on_load() {\n      root._bokeh_is_loading--;\n      if (root._bokeh_is_loading === 0) {\n        console.debug(\"Bokeh: all BokehJS libraries/stylesheets loaded\");\n        run_callbacks()\n      }\n    }\n\n    function on_error() {\n      console.error(\"failed to load \" + url);\n    }\n\n    for (var i = 0; i < css_urls.length; i++) {\n      var url = css_urls[i];\n      const element = document.createElement(\"link\");\n      element.onload = on_load;\n      element.onerror = on_error;\n      element.rel = \"stylesheet\";\n      element.type = \"text/css\";\n      element.href = url;\n      console.debug(\"Bokeh: injecting link tag for BokehJS stylesheet: \", url);\n      document.body.appendChild(element);\n    }\n\n    for (var i = 0; i < js_urls.length; i++) {\n      var url = js_urls[i];\n      var element = document.createElement('script');\n      element.onload = on_load;\n      element.onerror = on_error;\n      element.async = false;\n      element.src = url;\n      console.debug(\"Bokeh: injecting script tag for BokehJS library: \", url);\n      document.head.appendChild(element);\n    }\n  };var element = document.getElementById(\"1001\");\n  if (element == null) {\n    console.error(\"Bokeh: ERROR: autoload.js configured with elementid '1001' but no matching script tag was found. \")\n    return false;\n  }\n\n  function inject_raw_css(css) {\n    const element = document.createElement(\"style\");\n    element.appendChild(document.createTextNode(css));\n    document.body.appendChild(element);\n  }\n\n  \n  var js_urls = [\"https://cdn.pydata.org/bokeh/release/bokeh-1.4.0.min.js\", \"https://cdn.pydata.org/bokeh/release/bokeh-widgets-1.4.0.min.js\", \"https://cdn.pydata.org/bokeh/release/bokeh-tables-1.4.0.min.js\", \"https://cdn.pydata.org/bokeh/release/bokeh-gl-1.4.0.min.js\"];\n  var css_urls = [];\n  \n\n  var inline_js = [\n    function(Bokeh) {\n      Bokeh.set_log_level(\"info\");\n    },\n    function(Bokeh) {\n    \n    \n    }\n  ];\n\n  function run_inline_js() {\n    \n    if (root.Bokeh !== undefined || force === true) {\n      \n    for (var i = 0; i < inline_js.length; i++) {\n      inline_js[i].call(root, root.Bokeh);\n    }\n    if (force === true) {\n        display_loaded();\n      }} else if (Date.now() < root._bokeh_timeout) {\n      setTimeout(run_inline_js, 100);\n    } else if (!root._bokeh_failed_load) {\n      console.log(\"Bokeh: BokehJS failed to load within specified timeout.\");\n      root._bokeh_failed_load = true;\n    } else if (force !== true) {\n      var cell = $(document.getElementById(\"1001\")).parents('.cell').data().cell;\n      cell.output_area.append_execute_result(NB_LOAD_WARNING)\n    }\n\n  }\n\n  if (root._bokeh_is_loading === 0) {\n    console.debug(\"Bokeh: BokehJS loaded, going straight to plotting\");\n    run_inline_js();\n  } else {\n    load_libs(css_urls, js_urls, function() {\n      console.debug(\"Bokeh: BokehJS plotting callback run at\", now());\n      run_inline_js();\n    });\n  }\n}(window));"
     },
     "metadata": {},
     "output_type": "display_data"
    }
   ],
   "source": [
    "from bokeh.models import ColumnDataSource, LabelSet\n",
    "from bokeh.plotting import figure, show, output_file\n",
    "from bokeh.io import output_notebook\n",
    "\n",
    "output_notebook()"
   ]
  },
  {
   "cell_type": "markdown",
   "metadata": {},
   "source": [
    "### Part 0: Download the TED dataset"
   ]
  },
  {
   "cell_type": "code",
   "execution_count": 9,
   "metadata": {},
   "outputs": [
    {
     "name": "stdout",
     "output_type": "stream",
     "text": [
      "Collecting lxml\n",
      "\u001b[?25l  Downloading https://files.pythonhosted.org/packages/a7/85/8b1a9a33b451114e352c29a200320f086ea30ff163599dd39cb627e7c86a/lxml-4.5.0-cp37-cp37m-macosx_10_9_x86_64.whl (4.5MB)\n",
      "\u001b[K     |████████████████████████████████| 4.5MB 2.2MB/s eta 0:00:01\n",
      "\u001b[?25hInstalling collected packages: lxml\n",
      "Successfully installed lxml-4.5.0\n"
     ]
    }
   ],
   "source": [
    "!pip install lxml\n",
    "import urllib.request\n",
    "import zipfile\n",
    "import lxml.etree\n"
   ]
  },
  {
   "cell_type": "code",
   "execution_count": 10,
   "metadata": {},
   "outputs": [],
   "source": [
    "# Download the dataset if it's not already there: this may take a minute as it is 75MB\n",
    "if not os.path.isfile('ted_en-20160408.zip'):\n",
    "    urllib.request.urlretrieve(\"https://wit3.fbk.eu/get.php?path=XML_releases/xml/ted_en-20160408.zip&filename=ted_en-20160408.zip\", filename=\"ted_en-20160408.zip\")"
   ]
  },
  {
   "cell_type": "code",
   "execution_count": 12,
   "metadata": {},
   "outputs": [],
   "source": [
    "# For now, we're only interested in the subtitle text, so let's extract that from the XML:\n",
    "with zipfile.ZipFile('ted_en-20160408.zip', 'r') as z:\n",
    "    doc = lxml.etree.parse(z.open('ted_en-20160408.xml', 'r'))\n",
    "input_text = '\\n'.join(doc.xpath('//content/text()'))\n",
    "del doc"
   ]
  },
  {
   "cell_type": "markdown",
   "metadata": {},
   "source": [
    "### Part 1: Preprocessing\n",
    "\n",
    "In this part, we attempt to clean up the raw subtitles a bit, so that we get only sentences. The following substring shows examples of what we're trying to get rid of. Since it's hard to define precisely what we want to get rid of, we'll just use some simple heuristics."
   ]
  },
  {
   "cell_type": "code",
   "execution_count": 13,
   "metadata": {
    "scrolled": false
   },
   "outputs": [
    {
     "data": {
      "text/plain": [
       "' baby does.\\n(Video) Hyowon Gweon: See this? (Ball squeaks) Did you see that? (Ball squeaks) Cool. See this one? (Ball squeaks) Wow.\\nLaura Schulz: Told you. (Laughs)\\n(Vide'"
      ]
     },
     "execution_count": 13,
     "metadata": {},
     "output_type": "execute_result"
    }
   ],
   "source": [
    "i = input_text.find(\"Hyowon Gweon: See this?\")\n",
    "input_text[i-20:i+150]"
   ]
  },
  {
   "cell_type": "markdown",
   "metadata": {},
   "source": [
    "Let's start by removing all parenthesized strings using a regex:"
   ]
  },
  {
   "cell_type": "code",
   "execution_count": 14,
   "metadata": {},
   "outputs": [],
   "source": [
    "input_text_noparens = re.sub(r'\\([^)]*\\)', '', input_text)"
   ]
  },
  {
   "cell_type": "markdown",
   "metadata": {},
   "source": [
    "We can verify the same location in the text is now clean as follows. We won't worry about the irregular spaces since we'll later split the text into sentences and tokenize it anyway."
   ]
  },
  {
   "cell_type": "code",
   "execution_count": 15,
   "metadata": {},
   "outputs": [
    {
     "data": {
      "text/plain": [
       "\"hat the baby does.\\n Hyowon Gweon: See this?  Did you see that?  Cool. See this one?  Wow.\\nLaura Schulz: Told you. \\n HG: See this one?  Hey Clara, this one's for you. You \""
      ]
     },
     "execution_count": 15,
     "metadata": {},
     "output_type": "execute_result"
    }
   ],
   "source": [
    "i = input_text_noparens.find(\"Hyowon Gweon: See this?\")\n",
    "input_text_noparens[i-20:i+150]"
   ]
  },
  {
   "cell_type": "markdown",
   "metadata": {},
   "source": [
    "Now, let's attempt to remove speakers' names that occur at the beginning of a line, by deleting pieces of the form \"`<up to 20 characters>:`\", as shown in this example. Of course, this is an imperfect heuristic. "
   ]
  },
  {
   "cell_type": "code",
   "execution_count": 16,
   "metadata": {},
   "outputs": [
    {
     "data": {
      "text/plain": [
       "[\"Here are two reasons companies fail: they only do more of the same, or they only do what's new\",\n",
       " 'To me the real, real solution to quality growth is figuring out the balance between two activities: exploration and exploitation',\n",
       " ' Both are necessary, but it can be too much of a good thing',\n",
       " 'Consider Facit',\n",
       " \" I'm actually old enough to remember them\"]"
      ]
     },
     "execution_count": 16,
     "metadata": {},
     "output_type": "execute_result"
    }
   ],
   "source": [
    "sentences_strings_ted = []\n",
    "for line in input_text_noparens.split('\\n'):\n",
    "    m = re.match(r'^(?:(?P<precolon>[^:]{,20}):)?(?P<postcolon>.*)$', line)\n",
    "    sentences_strings_ted.extend(sent for sent in m.groupdict()['postcolon'].split('.') if sent)\n",
    "\n",
    "# Uncomment if you need to save some RAM: these strings are about 50MB.\n",
    "# del input_text, input_text_noparens\n",
    "\n",
    "# Let's view the first few:\n",
    "sentences_strings_ted[:5]"
   ]
  },
  {
   "cell_type": "markdown",
   "metadata": {},
   "source": [
    "Now that we have sentences, we're ready to tokenize each of them into words. This tokenization is imperfect, of course. For instance, how many tokens is \"can't\", and where/how do we split it? We'll take the simplest naive approach of splitting on spaces. Before splitting, we remove non-alphanumeric characters, such as punctuation. You may want to consider the following question: why do we replace these characters with spaces rather than deleting them? Think of a case where this yields a different answer."
   ]
  },
  {
   "cell_type": "code",
   "execution_count": 17,
   "metadata": {},
   "outputs": [],
   "source": [
    "sentences_ted = []\n",
    "for sent_str in sentences_strings_ted:\n",
    "    tokens = re.sub(r\"[^a-z0-9]+\", \" \", sent_str.lower()).split()\n",
    "    sentences_ted.append(tokens)"
   ]
  },
  {
   "cell_type": "markdown",
   "metadata": {},
   "source": [
    "Two sample processed sentences:"
   ]
  },
  {
   "cell_type": "code",
   "execution_count": 18,
   "metadata": {},
   "outputs": [
    {
     "data": {
      "text/plain": [
       "266694"
      ]
     },
     "execution_count": 18,
     "metadata": {},
     "output_type": "execute_result"
    }
   ],
   "source": [
    "len(sentences_ted)"
   ]
  },
  {
   "cell_type": "code",
   "execution_count": 19,
   "metadata": {},
   "outputs": [
    {
     "name": "stdout",
     "output_type": "stream",
     "text": [
      "['here', 'are', 'two', 'reasons', 'companies', 'fail', 'they', 'only', 'do', 'more', 'of', 'the', 'same', 'or', 'they', 'only', 'do', 'what', 's', 'new']\n",
      "['to', 'me', 'the', 'real', 'real', 'solution', 'to', 'quality', 'growth', 'is', 'figuring', 'out', 'the', 'balance', 'between', 'two', 'activities', 'exploration', 'and', 'exploitation']\n"
     ]
    }
   ],
   "source": [
    "print(sentences_ted[0])\n",
    "print(sentences_ted[1])"
   ]
  },
  {
   "cell_type": "markdown",
   "metadata": {},
   "source": [
    "### Part 2: Word Frequencies"
   ]
  },
  {
   "cell_type": "markdown",
   "metadata": {},
   "source": [
    "If you store the counts of the top 1000 words in a list called `counts_ted_top1000`, the code below will plot the histogram requested in the writeup."
   ]
  },
  {
   "cell_type": "code",
   "execution_count": 48,
   "metadata": {},
   "outputs": [],
   "source": [
    "\n",
    "from sklearn.feature_extraction.text import CountVectorizer\n",
    "vec = CountVectorizer().fit(sentences_strings_ted)\n",
    "bag_of_words = vec.transform(sentences_strings_ted)\n",
    "sum_words = bag_of_words.sum(axis=0)\n",
    "words_freq = [(word, sum_words[0, idx]) for word, idx in vec.vocabulary_.items()]\n",
    "words_freq = sorted(words_freq, key = lambda x: x[1], reverse=True)\n"
   ]
  },
  {
   "cell_type": "code",
   "execution_count": 117,
   "metadata": {},
   "outputs": [
    {
     "name": "stdout",
     "output_type": "stream",
     "text": [
      "[207748, 149305, 125169, 114818, 95146, 78069, 74737, 70923, 67629, 63251, 49241, 37014, 33102, 30806, 29713, 27995, 27344, 26732, 26519, 25961, 24706, 23377, 21246, 21041, 20201, 19481, 19216, 19021, 18626, 17928, 17908, 17551, 17011, 16723, 16273, 15868, 15452, 14387, 14061, 13986, 13916, 13896, 13882, 13863, 13278, 12879, 12363, 12298, 12163, 11935, 11595, 11576, 11506, 11445, 11366, 10902, 10900, 10463, 10446, 10180, 10179, 10091, 10029, 10021, 9911, 9872, 9675, 9376, 9308, 9239, 8906, 8841, 8823, 8629, 8262, 8256, 8011, 7858, 7735, 7724, 7617, 7537, 7536, 7281, 7227, 7183, 7168, 7141, 7119, 6937, 6806, 6521, 6424, 6358, 6307, 6292, 6229, 6207, 5972, 5907, 5695, 5684, 5571, 5552, 5501, 5456, 5379, 5374, 5312, 5275, 5220, 5197, 5175, 5153, 5133, 4935, 4929, 4919, 4660, 4546, 4544, 4511, 4485, 4454, 4399, 4299, 4143, 4132, 4130, 4120, 4079, 4034, 3971, 3968, 3798, 3791, 3787, 3786, 3707, 3611, 3494, 3449, 3364, 3346, 3301, 3245, 3217, 3201, 3188, 3171, 3080, 3032, 3031, 2999, 2983, 2916, 2914, 2899, 2873, 2869, 2861, 2856, 2846, 2779, 2778, 2775, 2757, 2745, 2726, 2701, 2674, 2644, 2636, 2616, 2616, 2613, 2601, 2586, 2579, 2563, 2561, 2532, 2514, 2513, 2505, 2495, 2478, 2460, 2457, 2455, 2451, 2412, 2374, 2342, 2340, 2332, 2327, 2306, 2291, 2268, 2265, 2245, 2244, 2240, 2225, 2197, 2195, 2194, 2192, 2162, 2158, 2154, 2144, 2117, 2107, 2080, 2076, 2073, 2065, 2045, 2045, 2033, 2016, 2015, 2002, 2001, 2001, 1979, 1977, 1961, 1950, 1941, 1941, 1934, 1930, 1929, 1924, 1920, 1893, 1877, 1841, 1840, 1834, 1833, 1781, 1772, 1765, 1765, 1762, 1755, 1748, 1744, 1740, 1729, 1720, 1716, 1708, 1681, 1678, 1654, 1652, 1650, 1637, 1636, 1634, 1625, 1618, 1615, 1600, 1590, 1585, 1584, 1582, 1576, 1576, 1575, 1575, 1550, 1548, 1544, 1537, 1527, 1522, 1519, 1510, 1510, 1492, 1482, 1482, 1479, 1478, 1469, 1466, 1466, 1463, 1444, 1433, 1423, 1423, 1420, 1419, 1417, 1409, 1400, 1400, 1393, 1390, 1390, 1389, 1387, 1386, 1382, 1379, 1374, 1374, 1373, 1357, 1357, 1353, 1352, 1351, 1349, 1348, 1346, 1341, 1334, 1334, 1329, 1326, 1321, 1309, 1309, 1308, 1302, 1300, 1296, 1293, 1291, 1285, 1284, 1284, 1282, 1277, 1270, 1269, 1268, 1267, 1267, 1265, 1264, 1257, 1254, 1249, 1246, 1238, 1238, 1238, 1235, 1234, 1214, 1211, 1201, 1198, 1198, 1197, 1191, 1190, 1189, 1189, 1188, 1188, 1185, 1179, 1176, 1176, 1172, 1170, 1170, 1166, 1162, 1162, 1161, 1161, 1154, 1151, 1151, 1149, 1147, 1146, 1144, 1140, 1133, 1132, 1131, 1121, 1119, 1119, 1119, 1112, 1109, 1108, 1107, 1102, 1100, 1096, 1093, 1092, 1089, 1088, 1084, 1081, 1078, 1071, 1067, 1064, 1063, 1059, 1052, 1051, 1051, 1048, 1047, 1046, 1042, 1041, 1039, 1038, 1037, 1035, 1034, 1030, 1029, 1027, 1024, 1017, 1015, 1013, 1012, 1011, 1011, 1010, 1008, 1007, 1004, 1004, 1003, 1000, 1000, 999, 998, 996, 995, 995, 992, 990, 987, 985, 984, 983, 982, 981, 977, 973, 973, 971, 967, 966, 961, 959, 958, 957, 957, 956, 952, 950, 941, 941, 940, 939, 936, 935, 933, 927, 924, 924, 922, 919, 917, 911, 908, 907, 906, 904, 903, 900, 899, 895, 893, 886, 884, 884, 883, 883, 881, 880, 878, 874, 874, 873, 872, 870, 865, 864, 860, 860, 859, 856, 855, 853, 852, 850, 849, 849, 845, 844, 840, 835, 834, 831, 831, 829, 824, 824, 820, 819, 816, 812, 810, 810, 808, 804, 803, 803, 795, 794, 793, 793, 791, 789, 783, 781, 780, 777, 769, 769, 765, 764, 761, 760, 758, 758, 755, 755, 753, 752, 752, 750, 749, 748, 747, 746, 745, 745, 742, 742, 740, 739, 738, 737, 735, 735, 733, 732, 732, 730, 729, 725, 723, 722, 721, 717, 714, 712, 711, 711, 708, 708, 705, 703, 701, 698, 698, 698, 697, 695, 694, 690, 688, 688, 687, 687, 686, 686, 685, 683, 681, 679, 678, 677, 677, 676, 673, 670, 667, 665, 664, 663, 663, 662, 660, 660, 659, 657, 654, 654, 652, 645, 643, 642, 641, 641, 638, 637, 637, 637, 637, 637, 637, 635, 635, 635, 635, 635, 634, 633, 629, 628, 627, 626, 625, 623, 622, 620, 620, 618, 617, 615, 614, 613, 613, 611, 611, 609, 609, 607, 606, 605, 605, 604, 603, 602, 602, 602, 601, 599, 599, 598, 596, 595, 595, 593, 592, 592, 591, 590, 590, 589, 585, 585, 584, 583, 579, 579, 579, 578, 577, 573, 573, 573, 572, 571, 571, 570, 569, 568, 568, 565, 563, 563, 562, 562, 561, 561, 559, 558, 556, 555, 555, 554, 552, 552, 551, 550, 550, 550, 546, 546, 542, 541, 541, 541, 541, 541, 540, 539, 534, 533, 533, 532, 532, 532, 532, 531, 530, 530, 530, 530, 530, 529, 529, 529, 529, 528, 528, 527, 527, 527, 526, 526, 526, 526, 525, 525, 524, 522, 521, 521, 520, 518, 518, 518, 517, 517, 517, 516, 516, 516, 516, 515, 514, 514, 512, 511, 511, 510, 509, 505, 505, 505, 504, 504, 504, 503, 503, 503, 503, 502, 502, 502, 502, 502, 501, 501, 500, 500, 498, 498, 498, 496, 496, 496, 495, 493, 492, 492, 492, 490, 490, 490, 489, 489, 486, 485, 485, 485, 483, 483, 483, 482, 482, 482, 482, 481, 480, 480, 479, 479, 479, 478, 477, 477, 476, 476, 475, 475, 474, 474, 473, 473, 472, 471, 471, 470, 469, 469, 468, 468, 468, 468, 468, 467, 465, 465, 464, 464, 464, 463, 462, 460, 459, 458, 458, 455, 455, 455, 455, 454, 453, 452, 451, 451, 450, 449, 445, 444, 444, 444, 442, 441, 441, 440, 440, 439, 439, 438, 438, 437, 437, 437, 437, 436, 436, 436, 436, 435, 435, 435, 435, 434, 433, 433, 433, 433, 433, 432, 432, 432, 432, 431, 431, 430, 430, 429, 429, 428, 428, 427, 427, 427, 426, 425, 425, 424, 423, 423, 423, 422, 422, 422, 422, 421, 420, 420, 419, 419, 419, 419, 419, 418, 418, 417, 417, 417, 417, 416, 415, 414, 414, 414, 414, 414, 414, 412, 412, 411, 410, 410, 409, 409, 409, 407, 407, 406, 406, 405, 405, 404, 404, 404, 403, 403, 403, 402, 402, 402, 402, 402, 400, 400, 399]\n"
     ]
    }
   ],
   "source": [
    "\n",
    "# print(words_freq[:400])\n",
    "counts_ted_top1000 = []\n",
    "words_top_ted = []\n",
    "for i in range (0, 1000):\n",
    "    counts_ted_top1000.append(words_freq[i][1])\n",
    "    words_top_ted.append(words_freq[i][0])\n",
    "print(counts_ted_top1000)\n",
    "# np.array(counts_ted_top1000).astype(np.float)"
   ]
  },
  {
   "cell_type": "markdown",
   "metadata": {},
   "source": [
    "Plot distribution of top-1000 words"
   ]
  },
  {
   "cell_type": "code",
   "execution_count": 51,
   "metadata": {},
   "outputs": [
    {
     "name": "stderr",
     "output_type": "stream",
     "text": [
      "/Users/sevenw/opt/miniconda3/lib/python3.7/site-packages/ipykernel_launcher.py:1: DeprecationWarning: The normed argument is ignored when density is provided. In future passing both will result in an error.\n",
      "  \"\"\"Entry point for launching an IPython kernel.\n"
     ]
    },
    {
     "data": {
      "text/html": [
       "\n",
       "\n",
       "\n",
       "\n",
       "\n",
       "\n",
       "  <div class=\"bk-root\" id=\"413ec0c2-0e14-43c3-afdc-c04284893143\" data-root-id=\"1002\"></div>\n"
      ]
     },
     "metadata": {},
     "output_type": "display_data"
    },
    {
     "data": {
      "application/javascript": [
       "(function(root) {\n",
       "  function embed_document(root) {\n",
       "    \n",
       "  var docs_json = {\"80970610-242a-4674-964a-71b5f23e9acb\":{\"roots\":{\"references\":[{\"attributes\":{\"below\":[{\"id\":\"1013\",\"type\":\"LinearAxis\"}],\"center\":[{\"id\":\"1017\",\"type\":\"Grid\"},{\"id\":\"1022\",\"type\":\"Grid\"}],\"left\":[{\"id\":\"1018\",\"type\":\"LinearAxis\"}],\"renderers\":[{\"id\":\"1035\",\"type\":\"GlyphRenderer\"}],\"title\":{\"id\":\"1003\",\"type\":\"Title\"},\"toolbar\":{\"id\":\"1027\",\"type\":\"Toolbar\"},\"toolbar_location\":\"above\",\"x_range\":{\"id\":\"1005\",\"type\":\"DataRange1d\"},\"x_scale\":{\"id\":\"1009\",\"type\":\"LinearScale\"},\"y_range\":{\"id\":\"1007\",\"type\":\"DataRange1d\"},\"y_scale\":{\"id\":\"1011\",\"type\":\"LinearScale\"}},\"id\":\"1002\",\"subtype\":\"Figure\",\"type\":\"Plot\"},{\"attributes\":{\"dimension\":1,\"ticker\":{\"id\":\"1019\",\"type\":\"BasicTicker\"}},\"id\":\"1022\",\"type\":\"Grid\"},{\"attributes\":{\"formatter\":{\"id\":\"1041\",\"type\":\"BasicTickFormatter\"},\"ticker\":{\"id\":\"1014\",\"type\":\"BasicTicker\"}},\"id\":\"1013\",\"type\":\"LinearAxis\"},{\"attributes\":{},\"id\":\"1024\",\"type\":\"WheelZoomTool\"},{\"attributes\":{\"bottom\":{\"value\":0},\"fill_alpha\":{\"value\":0.1},\"fill_color\":{\"value\":\"#1f77b4\"},\"left\":{\"field\":\"left\"},\"line_alpha\":{\"value\":0.1},\"line_color\":{\"value\":\"#1f77b4\"},\"right\":{\"field\":\"right\"},\"top\":{\"field\":\"top\"}},\"id\":\"1034\",\"type\":\"Quad\"},{\"attributes\":{\"data_source\":{\"id\":\"1032\",\"type\":\"ColumnDataSource\"},\"glyph\":{\"id\":\"1033\",\"type\":\"Quad\"},\"hover_glyph\":null,\"muted_glyph\":null,\"nonselection_glyph\":{\"id\":\"1034\",\"type\":\"Quad\"},\"selection_glyph\":null,\"view\":{\"id\":\"1036\",\"type\":\"CDSView\"}},\"id\":\"1035\",\"type\":\"GlyphRenderer\"},{\"attributes\":{\"active_drag\":\"auto\",\"active_inspect\":\"auto\",\"active_multi\":null,\"active_scroll\":\"auto\",\"active_tap\":\"auto\",\"tools\":[{\"id\":\"1023\",\"type\":\"PanTool\"},{\"id\":\"1024\",\"type\":\"WheelZoomTool\"},{\"id\":\"1025\",\"type\":\"ResetTool\"},{\"id\":\"1026\",\"type\":\"SaveTool\"}]},\"id\":\"1027\",\"type\":\"Toolbar\"},{\"attributes\":{\"ticker\":{\"id\":\"1014\",\"type\":\"BasicTicker\"}},\"id\":\"1017\",\"type\":\"Grid\"},{\"attributes\":{},\"id\":\"1019\",\"type\":\"BasicTicker\"},{\"attributes\":{\"callback\":null},\"id\":\"1007\",\"type\":\"DataRange1d\"},{\"attributes\":{\"callback\":null},\"id\":\"1005\",\"type\":\"DataRange1d\"},{\"attributes\":{\"formatter\":{\"id\":\"1039\",\"type\":\"BasicTickFormatter\"},\"ticker\":{\"id\":\"1019\",\"type\":\"BasicTicker\"}},\"id\":\"1018\",\"type\":\"LinearAxis\"},{\"attributes\":{},\"id\":\"1011\",\"type\":\"LinearScale\"},{\"attributes\":{},\"id\":\"1025\",\"type\":\"ResetTool\"},{\"attributes\":{},\"id\":\"1009\",\"type\":\"LinearScale\"},{\"attributes\":{},\"id\":\"1014\",\"type\":\"BasicTicker\"},{\"attributes\":{\"callback\":null,\"data\":{\"left\":{\"__ndarray__\":\"AAAAAADweEAUrkfh+lCjQBSuR+H6wbFAHoXrUXjbuUAUrkfhevrAQJmZmZk5B8VAHoXrUfgTyUCjcD0KtyDNQBSuR+G6ltBA1qNwPRqd0kCZmZmZeaPUQFyPwvXYqdZAHoXrUTiw2EDgehSul7baQKNwPQr3vNxAZmZmZlbD3kAUrkfh2mTgQPUoXI8KaOFA1qNwPTpr4kC4HoXraW7jQJmZmZmZceRAehSuR8l05UBcj8L1+HfmQD0K16Moe+dAHoXrUVh+6ED/////h4HpQOB6FK63hOpAwvUoXOeH60CjcD0KF4vsQITrUbhGju1AZmZmZnaR7kBH4XoUppTvQBSuR+HqS/BAhetRuILN8ED1KFyPGk/xQGZmZmay0PFA1qNwPUpS8kBH4XoU4tPyQLgehet5VfNAKFyPwhHX80CZmZmZqVj0QArXo3BB2vRAehSuR9lb9UDrUbgecd31QFyPwvUIX/ZAzMzMzKDg9kA9CtejOGL3QK1H4XrQ4/dAHoXrUWhl+ECPwvUoAOf4QP////+XaPlAcD0K1y/q+UDgehSux2v6QFG4HoVf7fpAwvUoXPdu+0AyMzMzj/D7QKNwPQoncvxAFK5H4b7z/ECE61G4VnX9QPUoXI/u9v1AZmZmZoZ4/kDWo3A9Hvr+QEfhehS2e/9Atx6F6039/0AUrkfhcj8AQczMzMw+gABBhetRuArBAEE9Ctej1gEBQfUoXI+iQgFBrkfhem6DAUFmZmZmOsQBQR6F61EGBQJB1qNwPdJFAkGPwvUonoYCQUfhehRqxwJB/////zUIA0G4HoXrAUkDQXA9CtfNiQNBKFyPwpnKA0HhehSuZQsEQZmZmZkxTARBUbgehf2MBEEK16Nwyc0EQcL1KFyVDgVBehSuR2FPBUEzMzMzLZAFQetRuB750AVBo3A9CsURBkFcj8L1kFIGQRSuR+FckwZBzMzMzCjUBkGE61G49BQHQT0K16PAVQdB9Shcj4yWB0GtR+F6WNcHQWZmZmYkGAhBHoXrUfBYCEHWo3A9vJkIQY/C9SiI2ghBR+F6FFQbCUE=\",\"dtype\":\"float64\",\"shape\":[100]},\"right\":{\"__ndarray__\":\"FK5H4fpQo0AUrkfh+sGxQB6F61F427lAFK5H4Xr6wECZmZmZOQfFQB6F61H4E8lAo3A9CrcgzUAUrkfhupbQQNajcD0andJAmZmZmXmj1EBcj8L12KnWQB6F61E4sNhA4HoUrpe22kCjcD0K97zcQGZmZmZWw95AFK5H4dpk4ED1KFyPCmjhQNajcD06a+JAuB6F62lu40CZmZmZmXHkQHoUrkfJdOVAXI/C9fh35kA9CtejKHvnQB6F61FYfuhA/////4eB6UDgehSut4TqQML1KFznh+tAo3A9CheL7ECE61G4Ro7tQGZmZmZ2ke5AR+F6FKaU70AUrkfh6kvwQIXrUbiCzfBA9ShcjxpP8UBmZmZmstDxQNajcD1KUvJAR+F6FOLT8kC4HoXreVXzQChcj8IR1/NAmZmZmalY9EAK16NwQdr0QHoUrkfZW/VA61G4HnHd9UBcj8L1CF/2QMzMzMyg4PZAPQrXozhi90CtR+F60OP3QB6F61FoZfhAj8L1KADn+ED/////l2j5QHA9Ctcv6vlA4HoUrsdr+kBRuB6FX+36QML1KFz3bvtAMjMzM4/w+0CjcD0KJ3L8QBSuR+G+8/xAhOtRuFZ1/UD1KFyP7vb9QGZmZmaGeP5A1qNwPR76/kBH4XoUtnv/QLcehetN/f9AFK5H4XI/AEHMzMzMPoAAQYXrUbgKwQBBPQrXo9YBAUH1KFyPokIBQa5H4XpugwFBZmZmZjrEAUEehetRBgUCQdajcD3SRQJBj8L1KJ6GAkFH4XoUascCQf////81CANBuB6F6wFJA0FwPQrXzYkDQShcj8KZygNB4XoUrmULBEGZmZmZMUwEQVG4HoX9jARBCtejcMnNBEHC9ShclQ4FQXoUrkdhTwVBMzMzMy2QBUHrUbge+dAFQaNwPQrFEQZBXI/C9ZBSBkEUrkfhXJMGQczMzMwo1AZBhOtRuPQUB0E9CtejwFUHQfUoXI+MlgdBrUfheljXB0FmZmZmJBgIQR6F61HwWAhB1qNwPbyZCEGPwvUoiNoIQUfhehRUGwlBAAAAACBcCUE=\",\"dtype\":\"float64\",\"shape\":[100]},\"top\":{\"__ndarray__\":\"ZBqztziyOT+SMBnr7vAAP6NIXWW4VO0+DGJUw5U04j59rPUCvi7gPizNEURFQNY+DGJUw5U00j59rPUCvi7APsKCcAQdRsg+eaz1Ar4uwD55rPUCvi6gPoGs9QK+LrA+gaz1Ar4uwD55rPUCvi6gPnms9QK+LrA+gaz1Ar4uoD4AAAAAAAAAAIGs9QK+LqA+AAAAAAAAAAAAAAAAAAAAAAAAAAAAAAAAAAAAAAAAAAAAAAAAAAAAAIGs9QK+LqA+AAAAAAAAAAAAAAAAAAAAAAAAAAAAAAAAAAAAAAAAAAAAAAAAAAAAAAAAAAAAAAAAgaz1Ar4uoD4AAAAAAAAAAHGs9QK+LqA+AAAAAAAAAABxrPUCvi6gPpGs9QK+LqA+AAAAAAAAAABxrPUCvi6gPgAAAAAAAAAAAAAAAAAAAAAAAAAAAAAAAAAAAAAAAAAAAAAAAAAAAAAAAAAAAAAAAAAAAAAAAAAAcaz1Ar4uoD4AAAAAAAAAAAAAAAAAAAAAAAAAAAAAAAAAAAAAAAAAAAAAAAAAAAAAAAAAAAAAAAAAAAAAAAAAAAAAAAAAAAAAAAAAAAAAAABxrPUCvi6gPgAAAAAAAAAAAAAAAAAAAAAAAAAAAAAAAAAAAAAAAAAAkaz1Ar4uoD4AAAAAAAAAAAAAAAAAAAAAAAAAAAAAAAAAAAAAAAAAAAAAAAAAAAAAAAAAAAAAAAAAAAAAAAAAAAAAAAAAAAAAAAAAAAAAAAAAAAAAAAAAAJGs9QK+LqA+AAAAAAAAAAAAAAAAAAAAAAAAAAAAAAAAAAAAAAAAAAAAAAAAAAAAAAAAAAAAAAAAAAAAAAAAAAAAAAAAAAAAAAAAAAAAAAAAAAAAAAAAAAAAAAAAAAAAAAAAAAAAAAAAAAAAAAAAAAAAAAAAAAAAAAAAAAAAAAAAAAAAAAAAAAAAAAAAAAAAAAAAAAAAAAAAAAAAAAAAAAAAAAAAAAAAAAAAAAAAAAAAAAAAAAAAAAAAAAAAAAAAAAAAAAAAAAAAAAAAAAAAAAAAAAAAAAAAAAAAAAAAAAAAUaz1Ar4uoD4=\",\"dtype\":\"float64\",\"shape\":[100]}},\"selected\":{\"id\":\"1043\",\"type\":\"Selection\"},\"selection_policy\":{\"id\":\"1042\",\"type\":\"UnionRenderers\"}},\"id\":\"1032\",\"type\":\"ColumnDataSource\"},{\"attributes\":{},\"id\":\"1042\",\"type\":\"UnionRenderers\"},{\"attributes\":{\"bottom\":{\"value\":0},\"fill_color\":{\"value\":\"#1f77b4\"},\"left\":{\"field\":\"left\"},\"line_color\":{\"value\":\"#555555\"},\"right\":{\"field\":\"right\"},\"top\":{\"field\":\"top\"}},\"id\":\"1033\",\"type\":\"Quad\"},{\"attributes\":{},\"id\":\"1039\",\"type\":\"BasicTickFormatter\"},{\"attributes\":{\"text\":\"Top-1000 words distribution\"},\"id\":\"1003\",\"type\":\"Title\"},{\"attributes\":{},\"id\":\"1023\",\"type\":\"PanTool\"},{\"attributes\":{},\"id\":\"1026\",\"type\":\"SaveTool\"},{\"attributes\":{},\"id\":\"1041\",\"type\":\"BasicTickFormatter\"},{\"attributes\":{\"source\":{\"id\":\"1032\",\"type\":\"ColumnDataSource\"}},\"id\":\"1036\",\"type\":\"CDSView\"},{\"attributes\":{},\"id\":\"1043\",\"type\":\"Selection\"}],\"root_ids\":[\"1002\"]},\"title\":\"Bokeh Application\",\"version\":\"1.4.0\"}};\n",
       "  var render_items = [{\"docid\":\"80970610-242a-4674-964a-71b5f23e9acb\",\"roots\":{\"1002\":\"413ec0c2-0e14-43c3-afdc-c04284893143\"}}];\n",
       "  root.Bokeh.embed.embed_items_notebook(docs_json, render_items);\n",
       "\n",
       "  }\n",
       "  if (root.Bokeh !== undefined) {\n",
       "    embed_document(root);\n",
       "  } else {\n",
       "    var attempts = 0;\n",
       "    var timer = setInterval(function(root) {\n",
       "      if (root.Bokeh !== undefined) {\n",
       "        clearInterval(timer);\n",
       "        embed_document(root);\n",
       "      } else {\n",
       "        attempts++;\n",
       "        if (attempts > 100) {\n",
       "          clearInterval(timer);\n",
       "          console.log(\"Bokeh: ERROR: Unable to run BokehJS code because BokehJS library is missing\");\n",
       "        }\n",
       "      }\n",
       "    }, 10, root)\n",
       "  }\n",
       "})(window);"
      ],
      "application/vnd.bokehjs_exec.v0+json": ""
     },
     "metadata": {
      "application/vnd.bokehjs_exec.v0+json": {
       "id": "1002"
      }
     },
     "output_type": "display_data"
    }
   ],
   "source": [
    "hist, edges = np.histogram(counts_ted_top1000, density=True, bins=100, normed=True)\n",
    "\n",
    "p = figure(tools=\"pan,wheel_zoom,reset,save\",\n",
    "           toolbar_location=\"above\",\n",
    "           title=\"Top-1000 words distribution\")\n",
    "p.quad(top=hist, bottom=0, left=edges[:-1], right=edges[1:], line_color=\"#555555\")\n",
    "show(p)"
   ]
  },
  {
   "cell_type": "markdown",
   "metadata": {},
   "source": [
    "### Part 3: Train Word2Vec"
   ]
  },
  {
   "cell_type": "code",
   "execution_count": 55,
   "metadata": {},
   "outputs": [
    {
     "name": "stdout",
     "output_type": "stream",
     "text": [
      "Collecting gensim\n",
      "\u001b[?25l  Downloading https://files.pythonhosted.org/packages/b3/54/1d7294672110d5c0565cabc4b99ed952ced9a2dc2ca1d59ad1b34303a6de/gensim-3.8.1-cp37-cp37m-macosx_10_6_intel.macosx_10_9_intel.macosx_10_9_x86_64.macosx_10_10_intel.macosx_10_10_x86_64.whl (24.7MB)\n",
      "\u001b[K     |████████████████████████████████| 24.7MB 1.1MB/s eta 0:00:01    |██                              | 1.5MB 2.3MB/s eta 0:00:11     |████████████████████▎           | 15.6MB 2.3MB/s eta 0:00:04\n",
      "\u001b[?25hRequirement already satisfied: scipy>=0.18.1 in /Users/sevenw/opt/miniconda3/lib/python3.7/site-packages (from gensim) (1.4.1)\n",
      "Requirement already satisfied: numpy>=1.11.3 in /Users/sevenw/opt/miniconda3/lib/python3.7/site-packages (from gensim) (1.17.4)\n",
      "Collecting smart-open>=1.8.1\n",
      "\u001b[?25l  Downloading https://files.pythonhosted.org/packages/0c/09/735f2786dfac9bbf39d244ce75c0313d27d4962e71e0774750dc809f2395/smart_open-1.9.0.tar.gz (70kB)\n",
      "\u001b[K     |████████████████████████████████| 71kB 10.2MB/s eta 0:00:01\n",
      "\u001b[?25hRequirement already satisfied: six>=1.5.0 in /Users/sevenw/opt/miniconda3/lib/python3.7/site-packages (from gensim) (1.12.0)\n",
      "Collecting boto>=2.32\n",
      "\u001b[?25l  Downloading https://files.pythonhosted.org/packages/23/10/c0b78c27298029e4454a472a1919bde20cb182dab1662cec7f2ca1dcc523/boto-2.49.0-py2.py3-none-any.whl (1.4MB)\n",
      "\u001b[K     |████████████████████████████████| 1.4MB 39.3MB/s eta 0:00:01\n",
      "\u001b[?25hRequirement already satisfied: requests in /Users/sevenw/opt/miniconda3/lib/python3.7/site-packages (from smart-open>=1.8.1->gensim) (2.22.0)\n",
      "Collecting boto3\n",
      "\u001b[?25l  Downloading https://files.pythonhosted.org/packages/05/6d/3c2481b929537e5571ef20554c413d64cb4354dcd9f3c711f538ea5db931/boto3-1.12.11-py2.py3-none-any.whl (128kB)\n",
      "\u001b[K     |████████████████████████████████| 133kB 27.6MB/s eta 0:00:01\n",
      "\u001b[?25hRequirement already satisfied: urllib3!=1.25.0,!=1.25.1,<1.26,>=1.21.1 in /Users/sevenw/opt/miniconda3/lib/python3.7/site-packages (from requests->smart-open>=1.8.1->gensim) (1.24.2)\n",
      "Requirement already satisfied: idna<2.9,>=2.5 in /Users/sevenw/opt/miniconda3/lib/python3.7/site-packages (from requests->smart-open>=1.8.1->gensim) (2.8)\n",
      "Requirement already satisfied: chardet<3.1.0,>=3.0.2 in /Users/sevenw/opt/miniconda3/lib/python3.7/site-packages (from requests->smart-open>=1.8.1->gensim) (3.0.4)\n",
      "Requirement already satisfied: certifi>=2017.4.17 in /Users/sevenw/opt/miniconda3/lib/python3.7/site-packages (from requests->smart-open>=1.8.1->gensim) (2019.11.28)\n",
      "Collecting botocore<1.16.0,>=1.15.11\n",
      "\u001b[?25l  Downloading https://files.pythonhosted.org/packages/e5/e8/c2cb7845cab6d7694fc82f9cff8916f89b1233aa4d881c6cbeaac42b82b9/botocore-1.15.11-py2.py3-none-any.whl (5.9MB)\n",
      "\u001b[K     |████████████████████████████████| 5.9MB 27.1MB/s eta 0:00:01\n",
      "\u001b[?25hCollecting jmespath<1.0.0,>=0.7.1\n",
      "  Downloading https://files.pythonhosted.org/packages/a3/43/1e939e1fcd87b827fe192d0c9fc25b48c5b3368902bfb913de7754b0dc03/jmespath-0.9.5-py2.py3-none-any.whl\n",
      "Collecting s3transfer<0.4.0,>=0.3.0\n",
      "\u001b[?25l  Downloading https://files.pythonhosted.org/packages/69/79/e6afb3d8b0b4e96cefbdc690f741d7dd24547ff1f94240c997a26fa908d3/s3transfer-0.3.3-py2.py3-none-any.whl (69kB)\n",
      "\u001b[K     |████████████████████████████████| 71kB 13.2MB/s eta 0:00:01\n",
      "\u001b[?25hCollecting docutils<0.16,>=0.10\n",
      "\u001b[?25l  Downloading https://files.pythonhosted.org/packages/22/cd/a6aa959dca619918ccb55023b4cb151949c64d4d5d55b3f4ffd7eee0c6e8/docutils-0.15.2-py3-none-any.whl (547kB)\n",
      "\u001b[K     |████████████████████████████████| 552kB 22.1MB/s eta 0:00:01\n",
      "\u001b[?25hRequirement already satisfied: python-dateutil<3.0.0,>=2.1 in /Users/sevenw/opt/miniconda3/lib/python3.7/site-packages (from botocore<1.16.0,>=1.15.11->boto3->smart-open>=1.8.1->gensim) (2.8.1)\n",
      "Building wheels for collected packages: smart-open\n",
      "  Building wheel for smart-open (setup.py) ... \u001b[?25ldone\n",
      "\u001b[?25h  Created wheel for smart-open: filename=smart_open-1.9.0-cp37-none-any.whl size=73088 sha256=1083394fef8077653bcb2105b720d959d32c9a294e7cd5db0126779b0b949179\n",
      "  Stored in directory: /Users/sevenw/Library/Caches/pip/wheels/ab/10/93/5cff86f5b721d77edaecc29959b1c60d894be1f66d91407d28\n",
      "Successfully built smart-open\n",
      "Installing collected packages: boto, docutils, jmespath, botocore, s3transfer, boto3, smart-open, gensim\n",
      "Successfully installed boto-2.49.0 boto3-1.12.11 botocore-1.15.11 docutils-0.15.2 gensim-3.8.1 jmespath-0.9.5 s3transfer-0.3.3 smart-open-1.9.0\n"
     ]
    }
   ],
   "source": [
    "!pip install gensim\n",
    "from gensim.models import Word2Vec"
   ]
  },
  {
   "cell_type": "code",
   "execution_count": 115,
   "metadata": {},
   "outputs": [],
   "source": [
    "model_ted = Word2Vec(min_count=10)"
   ]
  },
  {
   "cell_type": "code",
   "execution_count": 116,
   "metadata": {},
   "outputs": [
    {
     "data": {
      "text/plain": [
       "(15595048, 22334160)"
      ]
     },
     "execution_count": 116,
     "metadata": {},
     "output_type": "execute_result"
    }
   ],
   "source": [
    "model_ted.save(\"word2vec.model\")\n",
    "model_ted.build_vocab(sentences_ted)\n",
    "model_ted.train(sentences_ted, total_examples=model_ted.corpus_count, epochs=5)"
   ]
  },
  {
   "cell_type": "code",
   "execution_count": 112,
   "metadata": {},
   "outputs": [
    {
     "name": "stdout",
     "output_type": "stream",
     "text": [
      "14427\n"
     ]
    }
   ],
   "source": [
    "print(len(model_ted.wv.vocab))"
   ]
  },
  {
   "cell_type": "code",
   "execution_count": 81,
   "metadata": {},
   "outputs": [
    {
     "name": "stdout",
     "output_type": "stream",
     "text": [
      "[('woman', 0.8411097526550293), ('guy', 0.8142598271369934), ('lady', 0.7707378268241882), ('girl', 0.7259840965270996), ('boy', 0.7255516052246094), ('gentleman', 0.7173513174057007), ('soldier', 0.7131596207618713), ('kid', 0.6873033046722412), ('david', 0.6802223920822144), ('poet', 0.6797789335250854)]\n",
      "[('machine', 0.7497755885124207), ('robot', 0.7125699520111084), ('software', 0.6970232725143433), ('device', 0.6758543252944946), ('chip', 0.6681709289550781), ('program', 0.6668930649757385), ('video', 0.6422716379165649), ('camera', 0.6342703104019165), ('mechanical', 0.6210808753967285), ('visualization', 0.6181246042251587)]\n",
      "[('einstein', 0.6649230718612671), ('she', 0.6585855484008789), ('himself', 0.6249934434890747), ('darwin', 0.5910896062850952), ('david', 0.5808199048042297), ('tony', 0.5773943066596985), ('chris', 0.5747851729393005), ('john', 0.5722081661224365), ('nobody', 0.570104718208313), ('him', 0.568867564201355)]\n"
     ]
    }
   ],
   "source": [
    "x = model_ted.wv.most_similar(\"man\")\n",
    "y = model_ted.wv.most_similar(\"computer\")\n",
    "z = model_ted.wv.most_similar(\"he\")\n",
    "print(x)\n",
    "print(y)\n",
    "print(z)"
   ]
  },
  {
   "cell_type": "code",
   "execution_count": 85,
   "metadata": {},
   "outputs": [
    {
     "name": "stdout",
     "output_type": "stream",
     "text": [
      "0.093566\n",
      "0.09356601\n"
     ]
    }
   ],
   "source": []
  },
  {
   "cell_type": "markdown",
   "metadata": {},
   "source": [
    "### Part 4: Ted Learnt Representations"
   ]
  },
  {
   "cell_type": "markdown",
   "metadata": {},
   "source": [
    "Finding similar words: (see gensim docs for more functionality of `most_similar`)"
   ]
  },
  {
   "cell_type": "code",
   "execution_count": 88,
   "metadata": {},
   "outputs": [
    {
     "data": {
      "text/plain": [
       "[('woman', 0.8411097526550293),\n",
       " ('guy', 0.8142598271369934),\n",
       " ('lady', 0.7707378268241882),\n",
       " ('girl', 0.7259840965270996),\n",
       " ('boy', 0.7255516052246094),\n",
       " ('gentleman', 0.7173513174057007),\n",
       " ('soldier', 0.7131596207618713),\n",
       " ('kid', 0.6873033046722412),\n",
       " ('david', 0.6802223920822144),\n",
       " ('poet', 0.6797789335250854)]"
      ]
     },
     "execution_count": 88,
     "metadata": {},
     "output_type": "execute_result"
    }
   ],
   "source": [
    "model_ted.wv.most_similar(\"man\")"
   ]
  },
  {
   "cell_type": "code",
   "execution_count": 89,
   "metadata": {},
   "outputs": [
    {
     "data": {
      "text/plain": [
       "[('machine', 0.7497755885124207),\n",
       " ('robot', 0.7125699520111084),\n",
       " ('software', 0.6970232725143433),\n",
       " ('device', 0.6758543252944946),\n",
       " ('chip', 0.6681709289550781),\n",
       " ('program', 0.6668930649757385),\n",
       " ('video', 0.6422716379165649),\n",
       " ('camera', 0.6342703104019165),\n",
       " ('mechanical', 0.6210808753967285),\n",
       " ('visualization', 0.6181246042251587)]"
      ]
     },
     "execution_count": 89,
     "metadata": {},
     "output_type": "execute_result"
    }
   ],
   "source": [
    "model_ted.wv.most_similar(\"computer\")"
   ]
  },
  {
   "cell_type": "code",
   "execution_count": 90,
   "metadata": {},
   "outputs": [
    {
     "name": "stdout",
     "output_type": "stream",
     "text": [
      "0.093566\n",
      "0.09356601\n"
     ]
    }
   ],
   "source": [
    "fromModel = model_ted.wv.similarity(\"man\", \"computer\")\n",
    "print(fromModel)\n",
    "fromSta1 = model_ted.wv['man']\n",
    "fromSta2 = model_ted.wv['computer']\n",
    "similarity = np.dot(fromSta1, fromSta2) / (np.linalg.norm(fromSta1) * np.linalg.norm(fromSta2))\n",
    "print(similarity)"
   ]
  },
  {
   "cell_type": "markdown",
   "metadata": {},
   "source": [
    "#### t-SNE visualization\n",
    "To use the t-SNE code below, first put a list of the top 1000 words (as strings) into a variable `words_top_ted`. The following code gets the corresponding vectors from the model, assuming it's called `model_ted`:"
   ]
  },
  {
   "cell_type": "code",
   "execution_count": 118,
   "metadata": {},
   "outputs": [
    {
     "name": "stderr",
     "output_type": "stream",
     "text": [
      "/Users/sevenw/opt/miniconda3/lib/python3.7/site-packages/ipykernel_launcher.py:2: DeprecationWarning: Call to deprecated `__getitem__` (Method will be removed in 4.0.0, use self.wv.__getitem__() instead).\n",
      "  \n"
     ]
    }
   ],
   "source": [
    "# This assumes words_top_ted is a list of strings, the top 1000 words\n",
    "words_top_vec_ted = model_ted[words_top_ted]"
   ]
  },
  {
   "cell_type": "code",
   "execution_count": 119,
   "metadata": {},
   "outputs": [],
   "source": [
    "from sklearn.manifold import TSNE\n",
    "tsne = TSNE(n_components=2, random_state=0)\n",
    "words_top_ted_tsne = tsne.fit_transform(words_top_vec_ted)"
   ]
  },
  {
   "cell_type": "code",
   "execution_count": 122,
   "metadata": {},
   "outputs": [
    {
     "data": {
      "text/html": [
       "\n",
       "\n",
       "\n",
       "\n",
       "\n",
       "\n",
       "  <div class=\"bk-root\" id=\"32e19c03-3775-456b-a8d3-b7f2554a90be\" data-root-id=\"1281\"></div>\n"
      ]
     },
     "metadata": {},
     "output_type": "display_data"
    },
    {
     "data": {
      "application/javascript": [
       "(function(root) {\n",
       "  function embed_document(root) {\n",
       "    \n",
       "  var docs_json = {\"a1e50cf5-9686-4e67-9e2d-01e8795a8e4f\":{\"roots\":{\"references\":[{\"attributes\":{\"below\":[{\"id\":\"1292\",\"type\":\"LinearAxis\"}],\"center\":[{\"id\":\"1296\",\"type\":\"Grid\"},{\"id\":\"1301\",\"type\":\"Grid\"},{\"id\":\"1317\",\"type\":\"LabelSet\"}],\"left\":[{\"id\":\"1297\",\"type\":\"LinearAxis\"}],\"renderers\":[{\"id\":\"1315\",\"type\":\"GlyphRenderer\"}],\"title\":{\"id\":\"1282\",\"type\":\"Title\"},\"toolbar\":{\"id\":\"1306\",\"type\":\"Toolbar\"},\"toolbar_location\":\"above\",\"x_range\":{\"id\":\"1284\",\"type\":\"DataRange1d\"},\"x_scale\":{\"id\":\"1288\",\"type\":\"LinearScale\"},\"y_range\":{\"id\":\"1286\",\"type\":\"DataRange1d\"},\"y_scale\":{\"id\":\"1290\",\"type\":\"LinearScale\"}},\"id\":\"1281\",\"subtype\":\"Figure\",\"type\":\"Plot\"},{\"attributes\":{},\"id\":\"1345\",\"type\":\"UnionRenderers\"},{\"attributes\":{},\"id\":\"1344\",\"type\":\"BasicTickFormatter\"},{\"attributes\":{\"formatter\":{\"id\":\"1344\",\"type\":\"BasicTickFormatter\"},\"ticker\":{\"id\":\"1293\",\"type\":\"BasicTicker\"}},\"id\":\"1292\",\"type\":\"LinearAxis\"},{\"attributes\":{},\"id\":\"1302\",\"type\":\"PanTool\"},{\"attributes\":{},\"id\":\"1346\",\"type\":\"Selection\"},{\"attributes\":{},\"id\":\"1303\",\"type\":\"WheelZoomTool\"},{\"attributes\":{},\"id\":\"1304\",\"type\":\"ResetTool\"},{\"attributes\":{\"fill_color\":{\"value\":\"#1f77b4\"},\"line_color\":{\"value\":\"#1f77b4\"},\"size\":{\"units\":\"screen\",\"value\":8},\"x\":{\"field\":\"x1\"},\"y\":{\"field\":\"x2\"}},\"id\":\"1313\",\"type\":\"Scatter\"},{\"attributes\":{},\"id\":\"1305\",\"type\":\"SaveTool\"},{\"attributes\":{\"active_drag\":\"auto\",\"active_inspect\":\"auto\",\"active_multi\":null,\"active_scroll\":\"auto\",\"active_tap\":\"auto\",\"tools\":[{\"id\":\"1302\",\"type\":\"PanTool\"},{\"id\":\"1303\",\"type\":\"WheelZoomTool\"},{\"id\":\"1304\",\"type\":\"ResetTool\"},{\"id\":\"1305\",\"type\":\"SaveTool\"}]},\"id\":\"1306\",\"type\":\"Toolbar\"},{\"attributes\":{\"callback\":null},\"id\":\"1286\",\"type\":\"DataRange1d\"},{\"attributes\":{\"dimension\":1,\"ticker\":{\"id\":\"1298\",\"type\":\"BasicTicker\"}},\"id\":\"1301\",\"type\":\"Grid\"},{\"attributes\":{\"text\":\"word2vec T-SNE for most common words\"},\"id\":\"1282\",\"type\":\"Title\"},{\"attributes\":{},\"id\":\"1290\",\"type\":\"LinearScale\"},{\"attributes\":{\"callback\":null},\"id\":\"1284\",\"type\":\"DataRange1d\"},{\"attributes\":{\"fill_alpha\":{\"value\":0.1},\"fill_color\":{\"value\":\"#1f77b4\"},\"line_alpha\":{\"value\":0.1},\"line_color\":{\"value\":\"#1f77b4\"},\"size\":{\"units\":\"screen\",\"value\":8},\"x\":{\"field\":\"x1\"},\"y\":{\"field\":\"x2\"}},\"id\":\"1314\",\"type\":\"Scatter\"},{\"attributes\":{},\"id\":\"1288\",\"type\":\"LinearScale\"},{\"attributes\":{\"source\":{\"id\":\"1311\",\"type\":\"ColumnDataSource\"},\"text\":{\"field\":\"names\"},\"text_align\":\"center\",\"text_color\":{\"value\":\"#555555\"},\"text_font_size\":{\"value\":\"8pt\"},\"x\":{\"field\":\"x1\"},\"y\":{\"field\":\"x2\"},\"y_offset\":{\"value\":6}},\"id\":\"1317\",\"type\":\"LabelSet\"},{\"attributes\":{\"data_source\":{\"id\":\"1311\",\"type\":\"ColumnDataSource\"},\"glyph\":{\"id\":\"1313\",\"type\":\"Scatter\"},\"hover_glyph\":null,\"muted_glyph\":null,\"nonselection_glyph\":{\"id\":\"1314\",\"type\":\"Scatter\"},\"selection_glyph\":null,\"view\":{\"id\":\"1316\",\"type\":\"CDSView\"}},\"id\":\"1315\",\"type\":\"GlyphRenderer\"},{\"attributes\":{\"ticker\":{\"id\":\"1293\",\"type\":\"BasicTicker\"}},\"id\":\"1296\",\"type\":\"Grid\"},{\"attributes\":{},\"id\":\"1293\",\"type\":\"BasicTicker\"},{\"attributes\":{},\"id\":\"1298\",\"type\":\"BasicTicker\"},{\"attributes\":{\"source\":{\"id\":\"1311\",\"type\":\"ColumnDataSource\"}},\"id\":\"1316\",\"type\":\"CDSView\"},{\"attributes\":{\"callback\":null,\"data\":{\"names\":[\"the\",\"and\",\"to\",\"of\",\"that\",\"in\",\"it\",\"you\",\"we\",\"is\",\"this\",\"so\",\"they\",\"was\",\"for\",\"are\",\"have\",\"but\",\"what\",\"on\",\"with\",\"can\",\"about\",\"there\",\"be\",\"as\",\"at\",\"all\",\"not\",\"do\",\"my\",\"one\",\"re\",\"people\",\"like\",\"if\",\"from\",\"now\",\"our\",\"he\",\"an\",\"just\",\"these\",\"or\",\"when\",\"because\",\"very\",\"me\",\"out\",\"by\",\"them\",\"how\",\"know\",\"up\",\"going\",\"had\",\"more\",\"think\",\"who\",\"were\",\"see\",\"your\",\"their\",\"which\",\"would\",\"here\",\"really\",\"get\",\"ve\",\"then\",\"world\",\"us\",\"time\",\"some\",\"has\",\"don\",\"actually\",\"into\",\"way\",\"where\",\"will\",\"years\",\"things\",\"other\",\"no\",\"could\",\"go\",\"well\",\"want\",\"been\",\"make\",\"right\",\"she\",\"said\",\"something\",\"those\",\"first\",\"two\",\"than\",\"much\",\"also\",\"look\",\"new\",\"thing\",\"little\",\"got\",\"back\",\"over\",\"most\",\"say\",\"even\",\"his\",\"life\",\"only\",\"work\",\"many\",\"take\",\"need\",\"did\",\"lot\",\"kind\",\"why\",\"good\",\"around\",\"every\",\"different\",\"down\",\"ll\",\"let\",\"her\",\"through\",\"same\",\"being\",\"come\",\"day\",\"year\",\"three\",\"use\",\"doing\",\"put\",\"called\",\"any\",\"today\",\"percent\",\"made\",\"after\",\"thank\",\"tell\",\"great\",\"human\",\"find\",\"didn\",\"fact\",\"talk\",\"change\",\"started\",\"another\",\"idea\",\"big\",\"last\",\"own\",\"before\",\"its\",\"never\",\"should\",\"better\",\"give\",\"thought\",\"went\",\"might\",\"important\",\"000\",\"again\",\"able\",\"together\",\"still\",\"problem\",\"off\",\"next\",\"part\",\"course\",\"system\",\"him\",\"does\",\"each\",\"start\",\"show\",\"long\",\"ago\",\"story\",\"came\",\"brain\",\"few\",\"bit\",\"between\",\"used\",\"place\",\"technology\",\"women\",\"too\",\"old\",\"mean\",\"data\",\"water\",\"looking\",\"question\",\"maybe\",\"found\",\"love\",\"doesn\",\"end\",\"example\",\"10\",\"done\",\"point\",\"four\",\"real\",\"wanted\",\"ever\",\"school\",\"understand\",\"sort\",\"live\",\"call\",\"whole\",\"children\",\"always\",\"trying\",\"may\",\"person\",\"away\",\"believe\",\"feel\",\"try\",\"million\",\"working\",\"help\",\"everything\",\"five\",\"country\",\"thinking\",\"second\",\"using\",\"information\",\"money\",\"means\",\"power\",\"took\",\"times\",\"high\",\"space\",\"number\",\"kids\",\"home\",\"become\",\"create\",\"small\",\"design\",\"making\",\"best\",\"left\",\"getting\",\"future\",\"enough\",\"man\",\"quite\",\"city\",\"without\",\"sense\",\"happened\",\"comes\",\"social\",\"probably\",\"less\",\"light\",\"talking\",\"energy\",\"am\",\"building\",\"science\",\"food\",\"body\",\"told\",\"interesting\",\"ask\",\"half\",\"pretty\",\"hard\",\"play\",\"anything\",\"lives\",\"countries\",\"coming\",\"such\",\"family\",\"stuff\",\"dollars\",\"earth\",\"moment\",\"20\",\"imagine\",\"across\",\"side\",\"while\",\"saw\",\"happen\",\"once\",\"okay\",\"build\",\"having\",\"men\",\"later\",\"experience\",\"makes\",\"asked\",\"living\",\"seen\",\"says\",\"room\",\"hand\",\"simple\",\"health\",\"ways\",\"else\",\"case\",\"yet\",\"almost\",\"young\",\"days\",\"nothing\",\"care\",\"bad\",\"happens\",\"goes\",\"move\",\"states\",\"reason\",\"computer\",\"open\",\"learn\",\"africa\",\"process\",\"inside\",\"someone\",\"six\",\"far\",\"mind\",\"project\",\"remember\",\"single\",\"picture\",\"both\",\"whether\",\"problems\",\"saying\",\"community\",\"basically\",\"already\",\"within\",\"looked\",\"myself\",\"billion\",\"often\",\"possible\",\"business\",\"planet\",\"global\",\"everybody\",\"top\",\"sure\",\"public\",\"set\",\"wrong\",\"car\",\"book\",\"keep\",\"yes\",\"answer\",\"oh\",\"hope\",\"sometimes\",\"true\",\"history\",\"war\",\"guy\",\"child\",\"instead\",\"months\",\"ideas\",\"looks\",\"matter\",\"government\",\"amazing\",\"united\",\"since\",\"bring\",\"age\",\"cells\",\"job\",\"heard\",\"until\",\"face\",\"wasn\",\"100\",\"read\",\"control\",\"isn\",\"research\",\"30\",\"words\",\"group\",\"under\",\"self\",\"somebody\",\"built\",\"state\",\"woman\",\"turn\",\"friends\",\"beautiful\",\"line\",\"knew\",\"couple\",\"order\",\"form\",\"yeah\",\"internet\",\"middle\",\"music\",\"piece\",\"nature\",\"head\",\"though\",\"stop\",\"everyone\",\"50\",\"places\",\"video\",\"learned\",\"language\",\"run\",\"night\",\"decided\",\"study\",\"word\",\"cancer\",\"taking\",\"works\",\"became\",\"exactly\",\"species\",\"society\",\"completely\",\"education\",\"against\",\"stories\",\"large\",\"share\",\"level\",\"heart\",\"america\",\"model\",\"questions\",\"gets\",\"mother\",\"god\",\"company\",\"turns\",\"ourselves\",\"happening\",\"hear\",\"art\",\"themselves\",\"must\",\"itself\",\"rather\",\"kinds\",\"students\",\"name\",\"hours\",\"disease\",\"front\",\"house\",\"huge\",\"couldn\",\"created\",\"universe\",\"ok\",\"animals\",\"american\",\"environment\",\"worked\",\"minutes\",\"ones\",\"black\",\"perhaps\",\"past\",\"third\",\"along\",\"others\",\"finally\",\"sound\",\"early\",\"game\",\"thousands\",\"century\",\"based\",\"least\",\"per\",\"ted\",\"lots\",\"figure\",\"free\",\"guys\",\"particular\",\"happy\",\"news\",\"learning\",\"entire\",\"won\",\"gave\",\"machine\",\"india\",\"during\",\"systems\",\"air\",\"difference\",\"outside\",\"natural\",\"taken\",\"seven\",\"given\",\"changed\",\"leave\",\"cell\",\"15\",\"close\",\"behind\",\"cities\",\"full\",\"scale\",\"difficult\",\"china\",\"takes\",\"companies\",\"yourself\",\"area\",\"reality\",\"seeing\",\"easy\",\"turned\",\"cost\",\"eyes\",\"team\",\"moving\",\"population\",\"culture\",\"york\",\"hands\",\"whatever\",\"began\",\"needs\",\"terms\",\"image\",\"simply\",\"needed\",\"beginning\",\"father\",\"local\",\"realized\",\"media\",\"death\",\"parents\",\"view\",\"walk\",\"white\",\"market\",\"parts\",\"ocean\",\"economic\",\"eight\",\"powerful\",\"known\",\"week\",\"size\",\"felt\",\"humans\",\"certain\",\"spend\",\"longer\",\"phone\",\"wonderful\",\"cannot\",\"grow\",\"common\",\"center\",\"tried\",\"fish\",\"land\",\"oil\",\"political\",\"interested\",\"deal\",\"red\",\"gone\",\"amount\",\"weeks\",\"spent\",\"opportunity\",\"paper\",\"lost\",\"national\",\"quickly\",\"blue\",\"step\",\"poor\",\"green\",\"buy\",\"growth\",\"wouldn\",\"either\",\"patients\",\"sitting\",\"ability\",\"changes\",\"write\",\"challenge\",\"south\",\"low\",\"growing\",\"friend\",\"field\",\"shows\",\"born\",\"rest\",\"climate\",\"40\",\"test\",\"street\",\"surface\",\"incredible\",\"average\",\"physical\",\"morning\",\"scientists\",\"program\",\"pay\",\"value\",\"feeling\",\"hundreds\",\"girl\",\"met\",\"behavior\",\"economy\",\"dna\",\"complex\",\"access\",\"risk\",\"animal\",\"structure\",\"feet\",\"attention\",\"areas\",\"anyone\",\"deep\",\"watch\",\"short\",\"absolutely\",\"speak\",\"brought\",\"die\",\"bottom\",\"numbers\",\"audience\",\"stage\",\"realize\",\"law\",\"images\",\"wrote\",\"understanding\",\"knowledge\",\"literally\",\"books\",\"movement\",\"ground\",\"giving\",\"eat\",\"force\",\"seems\",\"alone\",\"telling\",\"starting\",\"hold\",\"nice\",\"forward\",\"sea\",\"developed\",\"individual\",\"kid\",\"millions\",\"support\",\"miles\",\"tools\",\"running\",\"online\",\"result\",\"act\",\"medical\",\"technologies\",\"north\",\"lab\",\"development\",\"blood\",\"fear\",\"nobody\",\"map\",\"personal\",\"issue\",\"voice\",\"material\",\"key\",\"12\",\"recently\",\"theory\",\"cut\",\"cars\",\"sun\",\"fast\",\"changing\",\"playing\",\"clear\",\"especially\",\"soon\",\"girls\",\"patient\",\"choice\",\"fly\",\"creating\",\"normal\",\"discovered\",\"europe\",\"talked\",\"relationship\",\"gives\",\"generation\",\"dark\",\"type\",\"showed\",\"chance\",\"seem\",\"industry\",\"asking\",\"rate\",\"fun\",\"issues\",\"color\",\"designed\",\"hour\",\"university\",\"innovation\",\"several\",\"computers\",\"english\",\"tiny\",\"allow\",\"save\",\"focus\",\"class\",\"digital\",\"solve\",\"developing\",\"network\",\"film\",\"special\",\"wall\",\"situation\",\"baby\",\"solution\",\"reasons\",\"box\",\"knows\",\"meet\",\"dead\",\"stand\",\"begin\",\"haven\",\"impact\",\"anybody\",\"term\",\"beyond\",\"pictures\",\"please\",\"ice\",\"produce\",\"shape\",\"non\",\"resources\",\"robot\",\"cool\",\"groups\",\"likely\",\"stay\",\"available\",\"truth\",\"rights\",\"major\",\"cause\",\"evidence\",\"obviously\",\"writing\",\"experiment\",\"modern\",\"drug\",\"becomes\",\"incredibly\",\"aren\",\"bigger\",\"guess\",\"nine\",\"product\",\"drugs\",\"lived\",\"involved\",\"perfect\",\"google\",\"month\",\"effect\",\"similar\",\"putting\",\"eye\",\"pick\",\"message\",\"quality\",\"violence\",\"web\",\"evolution\",\"security\",\"office\",\"basic\",\"solar\",\"indeed\",\"general\",\"towards\",\"present\",\"drive\",\"send\",\"listen\",\"worth\",\"revolution\",\"explain\",\"hundred\",\"certainly\",\"died\",\"ready\",\"teach\",\"journey\",\"25\",\"hit\",\"walking\",\"led\",\"approach\",\"international\",\"200\",\"scientific\",\"games\",\"60\",\"potential\",\"crazy\",\"communities\",\"chinese\",\"device\",\"source\",\"camera\",\"rules\",\"sex\",\"carbon\",\"sounds\",\"boy\",\"reach\",\"starts\",\"examples\",\"west\",\"success\",\"measure\",\"particularly\",\"software\",\"totally\",\"suddenly\",\"action\",\"college\",\"higher\",\"code\",\"eventually\",\"democracy\",\"among\",\"minute\",\"sit\",\"largest\",\"showing\",\"hospital\",\"notice\",\"period\",\"mass\",\"develop\",\"dream\",\"onto\",\"plants\",\"break\",\"add\",\"memory\",\"everywhere\",\"favorite\",\"11\",\"zero\",\"speed\",\"schools\",\"moved\",\"response\",\"wants\",\"extremely\",\"movie\",\"individuals\",\"table\",\"wait\",\"medicine\",\"follow\",\"anyway\",\"trust\",\"plant\",\"biggest\",\"watching\",\"organization\",\"creative\",\"road\",\"choose\",\"worse\",\"lead\",\"results\",\"500\",\"exciting\",\"grew\",\"materials\",\"jobs\",\"east\",\"poverty\",\"positive\",\"safe\",\"plan\",\"strong\",\"fall\",\"essentially\",\"object\",\"door\",\"son\",\"vision\",\"further\",\"happiness\",\"continue\",\"student\",\"doctor\",\"including\",\"named\",\"role\",\"objects\",\"extraordinary\",\"standing\",\"skin\",\"leaders\",\"usually\",\"african\",\"conversation\",\"projects\",\"allowed\",\"models\",\"supposed\",\"faster\",\"interest\",\"families\",\"police\",\"fight\",\"tree\",\"connected\",\"screen\",\"cases\",\"goal\",\"somewhere\",\"finding\",\"buildings\",\"shown\",\"older\",\"teachers\",\"meaning\",\"80\",\"decision\",\"expect\",\"taught\",\"fire\",\"mine\",\"village\",\"wife\"],\"x1\":{\"__ndarray__\":\"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\",\"dtype\":\"float32\",\"shape\":[1000]},\"x2\":{\"__ndarray__\":\"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\",\"dtype\":\"float32\",\"shape\":[1000]}},\"selected\":{\"id\":\"1346\",\"type\":\"Selection\"},\"selection_policy\":{\"id\":\"1345\",\"type\":\"UnionRenderers\"}},\"id\":\"1311\",\"type\":\"ColumnDataSource\"},{\"attributes\":{\"formatter\":{\"id\":\"1342\",\"type\":\"BasicTickFormatter\"},\"ticker\":{\"id\":\"1298\",\"type\":\"BasicTicker\"}},\"id\":\"1297\",\"type\":\"LinearAxis\"},{\"attributes\":{},\"id\":\"1342\",\"type\":\"BasicTickFormatter\"}],\"root_ids\":[\"1281\"]},\"title\":\"Bokeh Application\",\"version\":\"1.4.0\"}};\n",
       "  var render_items = [{\"docid\":\"a1e50cf5-9686-4e67-9e2d-01e8795a8e4f\",\"roots\":{\"1281\":\"32e19c03-3775-456b-a8d3-b7f2554a90be\"}}];\n",
       "  root.Bokeh.embed.embed_items_notebook(docs_json, render_items);\n",
       "\n",
       "  }\n",
       "  if (root.Bokeh !== undefined) {\n",
       "    embed_document(root);\n",
       "  } else {\n",
       "    var attempts = 0;\n",
       "    var timer = setInterval(function(root) {\n",
       "      if (root.Bokeh !== undefined) {\n",
       "        clearInterval(timer);\n",
       "        embed_document(root);\n",
       "      } else {\n",
       "        attempts++;\n",
       "        if (attempts > 100) {\n",
       "          clearInterval(timer);\n",
       "          console.log(\"Bokeh: ERROR: Unable to run BokehJS code because BokehJS library is missing\");\n",
       "        }\n",
       "      }\n",
       "    }, 10, root)\n",
       "  }\n",
       "})(window);"
      ],
      "application/vnd.bokehjs_exec.v0+json": ""
     },
     "metadata": {
      "application/vnd.bokehjs_exec.v0+json": {
       "id": "1281"
      }
     },
     "output_type": "display_data"
    }
   ],
   "source": [
    "p = figure(tools=\"pan,wheel_zoom,reset,save\",\n",
    "           toolbar_location=\"above\",\n",
    "           title=\"word2vec T-SNE for most common words\")\n",
    "\n",
    "source = ColumnDataSource(data=dict(x1=words_top_ted_tsne[:,0],\n",
    "                                    x2=words_top_ted_tsne[:,1],\n",
    "                                    names=words_top_ted))\n",
    "\n",
    "p.scatter(x=\"x1\", y=\"x2\", size=8, source=source)\n",
    "\n",
    "labels = LabelSet(x=\"x1\", y=\"x2\", text=\"names\", y_offset=6,\n",
    "                  text_font_size=\"8pt\", text_color=\"#555555\",\n",
    "                  source=source, text_align='center')\n",
    "p.add_layout(labels)\n",
    "\n",
    "show(p)"
   ]
  },
  {
   "cell_type": "markdown",
   "metadata": {},
   "source": [
    "### Part 5: Wiki Learnt Representations"
   ]
  },
  {
   "cell_type": "markdown",
   "metadata": {},
   "source": [
    "Download dataset"
   ]
  },
  {
   "cell_type": "code",
   "execution_count": 123,
   "metadata": {},
   "outputs": [],
   "source": [
    "if not os.path.isfile('wikitext-103-raw-v1.zip'):\n",
    "    urllib.request.urlretrieve(\"https://s3.amazonaws.com/research.metamind.io/wikitext/wikitext-103-raw-v1.zip\", filename=\"wikitext-103-raw-v1.zip\")"
   ]
  },
  {
   "cell_type": "code",
   "execution_count": 148,
   "metadata": {},
   "outputs": [],
   "source": [
    "with zipfile.ZipFile('wikitext-103-raw-v1.zip', 'r') as z:\n",
    "    input_text = str(z.open('wikitext-103-raw/wiki.train.raw', 'r').read(), encoding='utf-8') # Thanks Robert Bastian"
   ]
  },
  {
   "cell_type": "markdown",
   "metadata": {},
   "source": [
    "Preprocess sentences (note that it's important to remove small sentences for performance)"
   ]
  },
  {
   "cell_type": "code",
   "execution_count": 149,
   "metadata": {},
   "outputs": [],
   "source": [
    "sentences_wiki = []\n",
    "for line in input_text.split('\\n'):\n",
    "    s = [x for x in line.split('.') if x and len(x.split()) >= 5]\n",
    "    sentences_wiki.extend(s)\n",
    "    \n",
    "for s_i in range(len(sentences_wiki)):\n",
    "    sentences_wiki[s_i] = re.sub(\"[^a-z]\", \" \", sentences_wiki[s_i].lower())\n",
    "    sentences_wiki[s_i] = re.sub(r'\\([^)]*\\)', '', sentences_wiki[s_i])\n",
    "\n",
    "\n",
    "sent_wiki = []\n",
    "for sent_str in sentences_wiki:\n",
    "    tokens = re.sub(r\"[^a-z0-9]+\", \" \", sent_str.lower()).split()\n",
    "    sent_wiki.append(tokens)\n"
   ]
  },
  {
   "cell_type": "code",
   "execution_count": 150,
   "metadata": {},
   "outputs": [
    {
     "name": "stdout",
     "output_type": "stream",
     "text": [
      "4267112\n"
     ]
    }
   ],
   "source": [
    "# sample 1/5 of the data\n",
    "shuffle(sentences_wiki)\n",
    "print(len(sentences_wiki))\n",
    "# sentences_wiki = sentences_wiki[:int(len(sentences_wiki)/5)]\n",
    "# print(len(sentences_wiki))"
   ]
  },
  {
   "cell_type": "markdown",
   "metadata": {},
   "source": [
    "Now, repeat all the same steps that you performed above. You should be able to reuse essentially all the code."
   ]
  },
  {
   "cell_type": "code",
   "execution_count": 153,
   "metadata": {},
   "outputs": [
    {
     "name": "stdout",
     "output_type": "stream",
     "text": [
      "[['valkyria', 'chronicles', 'iii'], ['senj', 'no', 'valkyria', 'unrecorded', 'chronicles', 'japanese', 'lit'], ['valkyria', 'of', 'the', 'battlefield', 'commonly', 'referred', 'to', 'as', 'valkyria', 'chronicles', 'iii', 'outside', 'japan', 'is', 'a', 'tactical', 'role', 'playing', 'video', 'game', 'developed', 'by', 'sega', 'and', 'media'], ['vision', 'for', 'the', 'playstation', 'portable'], ['released', 'in', 'january', 'in', 'japan', 'it', 'is', 'the', 'third', 'game', 'in', 'the', 'valkyria', 'series'], ['employing', 'the', 'same', 'fusion', 'of', 'tactical', 'and', 'real', 'time', 'gameplay', 'as', 'its', 'predecessors', 'the', 'story', 'runs', 'parallel', 'to', 'the', 'first', 'game', 'and', 'follows', 'the', 'nameless', 'a', 'penal', 'military', 'unit', 'serving', 'the', 'nation', 'of', 'gallia', 'during', 'the', 'second', 'europan', 'war', 'who', 'perform', 'secret', 'black', 'operations', 'and', 'are', 'pitted', 'against', 'the', 'imperial', 'unit', 'calamaty', 'raven'], ['the', 'game', 'began', 'development', 'in', 'carrying', 'over', 'a', 'large', 'portion', 'of', 'the', 'work', 'done', 'on', 'valkyria', 'chronicles', 'ii'], ['while', 'it', 'retained', 'the', 'standard', 'features', 'of', 'the', 'series', 'it', 'also', 'underwent', 'multiple', 'adjustments', 'such', 'as', 'making', 'the', 'game', 'more', 'forgiving', 'for', 'series', 'newcomers'], ['character', 'designer', 'raita', 'honjou', 'and', 'composer', 'hitoshi', 'sakimoto', 'both', 'returned', 'from', 'previous', 'entries', 'along', 'with', 'valkyria', 'chronicles', 'ii', 'director', 'takeshi', 'ozawa'], ['a', 'large', 'team', 'of', 'writers', 'handled', 'the', 'script'], ['the', 'game', 's', 'opening', 'theme', 'was', 'sung', 'by', 'may', 'n'], ['it', 'met', 'with', 'positive', 'sales', 'in', 'japan', 'and', 'was', 'praised', 'by', 'both', 'japanese', 'and', 'western', 'critics'], ['after', 'release', 'it', 'received', 'downloadable', 'content', 'along', 'with', 'an', 'expanded', 'edition', 'in', 'november', 'of', 'that', 'year'], ['it', 'was', 'also', 'adapted', 'into', 'manga', 'and', 'an', 'original', 'video', 'animation', 'series'], ['due', 'to', 'low', 'sales', 'of', 'valkyria', 'chronicles', 'ii', 'valkyria', 'chronicles', 'iii', 'was', 'not', 'localized', 'but', 'a', 'fan', 'translation', 'compatible', 'with', 'the', 'game', 's', 'expanded', 'edition', 'was', 'released', 'in'], ['vision', 'would', 'return', 'to', 'the', 'franchise', 'with', 'the', 'development', 'of', 'valkyria', 'azure', 'revolution', 'for', 'the', 'playstation'], ['gameplay'], ['as', 'with', 'previous', 'valkyira', 'chronicles', 'games', 'valkyria', 'chronicles', 'iii', 'is', 'a', 'tactical', 'role', 'playing', 'game', 'where', 'players', 'take', 'control', 'of', 'a', 'military', 'unit', 'and', 'take', 'part', 'in', 'missions', 'against', 'enemy', 'forces'], ['stories', 'are', 'told', 'through', 'comic', 'book', 'like', 'panels', 'with', 'animated', 'character', 'portraits', 'with', 'characters', 'speaking', 'partially', 'through', 'voiced', 'speech', 'bubbles', 'and', 'partially', 'through', 'unvoiced', 'text'], ['the', 'player', 'progresses', 'through', 'a', 'series', 'of', 'linear', 'missions', 'gradually', 'unlocked', 'as', 'maps', 'that', 'can', 'be', 'freely', 'scanned', 'through', 'and', 'replayed', 'as', 'they', 'are', 'unlocked']]\n",
      "[['here', 'are', 'two', 'reasons', 'companies', 'fail', 'they', 'only', 'do', 'more', 'of', 'the', 'same', 'or', 'they', 'only', 'do', 'what', 's', 'new'], ['to', 'me', 'the', 'real', 'real', 'solution', 'to', 'quality', 'growth', 'is', 'figuring', 'out', 'the', 'balance', 'between', 'two', 'activities', 'exploration', 'and', 'exploitation'], ['both', 'are', 'necessary', 'but', 'it', 'can', 'be', 'too', 'much', 'of', 'a', 'good', 'thing'], ['consider', 'facit'], ['i', 'm', 'actually', 'old', 'enough', 'to', 'remember', 'them'], ['facit', 'was', 'a', 'fantastic', 'company'], ['they', 'were', 'born', 'deep', 'in', 'the', 'swedish', 'forest', 'and', 'they', 'made', 'the', 'best', 'mechanical', 'calculators', 'in', 'the', 'world'], ['everybody', 'used', 'them'], ['and', 'what', 'did', 'facit', 'do', 'when', 'the', 'electronic', 'calculator', 'came', 'along', 'they', 'continued', 'doing', 'exactly', 'the', 'same'], ['in', 'six', 'months', 'they', 'went', 'from', 'maximum', 'revenue'], ['and', 'they', 'were', 'gone'], ['gone'], ['to', 'me', 'the', 'irony', 'about', 'the', 'facit', 'story', 'is', 'hearing', 'about', 'the', 'facit', 'engineers', 'who', 'had', 'bought', 'cheap', 'small', 'electronic', 'calculators', 'in', 'japan', 'that', 'they', 'used', 'to', 'double', 'check', 'their', 'calculators'], ['facit', 'did', 'too', 'much', 'exploitation'], ['but', 'exploration', 'can', 'go', 'wild', 'too'], ['a', 'few', 'years', 'back', 'i', 'worked', 'closely', 'alongside', 'a', 'european', 'biotech', 'company'], ['let', 's', 'call', 'them', 'oncosearch'], ['the', 'company', 'was', 'brilliant'], ['they', 'had', 'applications', 'that', 'promised', 'to', 'diagnose', 'even', 'cure', 'certain', 'forms', 'of', 'blood', 'cancer'], ['every', 'day', 'was', 'about', 'creating', 'something', 'new']]\n"
     ]
    }
   ],
   "source": [
    "print(sent_wiki[:20])\n",
    "print(sentences_ted[:20])"
   ]
  },
  {
   "cell_type": "code",
   "execution_count": 154,
   "metadata": {},
   "outputs": [
    {
     "data": {
      "text/plain": [
       "(63355077, 83270301)"
      ]
     },
     "execution_count": 154,
     "metadata": {},
     "output_type": "execute_result"
    }
   ],
   "source": [
    "model_wiki = Word2Vec(min_count=10)\n",
    "model_wiki.build_vocab(sent_wiki)\n",
    "model_wiki.train(sent_wiki, total_examples=model_wiki.corpus_count, epochs=1)\n",
    "# model_ted.build_vocab(sentences_ted)\n",
    "# model_ted.train(sentences_ted, total_examples=model_ted.corpus_count, epochs=5)"
   ]
  },
  {
   "cell_type": "code",
   "execution_count": 167,
   "metadata": {},
   "outputs": [],
   "source": [
    "vec = CountVectorizer().fit(sentences_wiki)\n",
    "bag_of_words = vec.transform(sentences_wiki)\n",
    "sum_words = bag_of_words.sum(axis=0)\n",
    "words_freq = [(word, sum_words[0, idx]) for word, idx in vec.vocabulary_.items()]\n",
    "words_freq = sorted(words_freq, key = lambda x: x[1], reverse=True)"
   ]
  },
  {
   "cell_type": "code",
   "execution_count": 168,
   "metadata": {},
   "outputs": [],
   "source": [
    "counts_wiki_top1000 = []\n",
    "words_top_wiki = []\n",
    "for i in range (0, 1000):\n",
    "    counts_wiki_top1000.append(words_freq[i][1])\n",
    "    words_top_wiki.append(words_freq[i][0])"
   ]
  },
  {
   "cell_type": "code",
   "execution_count": 162,
   "metadata": {},
   "outputs": [
    {
     "name": "stdout",
     "output_type": "stream",
     "text": [
      "110582\n",
      "[('woman', 0.7593563199043274), ('boy', 0.6586384177207947), ('girl', 0.6461068987846375), ('soldier', 0.6314491033554077), ('person', 0.6275582313537598), ('dog', 0.6091442108154297), ('mask', 0.6027307510375977), ('thief', 0.59775310754776), ('lad', 0.5939432382583618), ('joker', 0.5938776135444641)]\n",
      "[('software', 0.8098450899124146), ('hardware', 0.7736421823501587), ('computers', 0.763701319694519), ('simulation', 0.7520653009414673), ('interface', 0.7482790946960449), ('cgi', 0.7308537364006042), ('technology', 0.7258260846138), ('user', 0.719807505607605), ('controller', 0.7197705507278442), ('computing', 0.7031029462814331)]\n"
     ]
    }
   ],
   "source": [
    "print(len(model_wiki.wv.vocab))\n",
    "print(model_wiki.wv.most_similar(\"man\"))\n",
    "print(model_wiki.wv.most_similar(\"computer\"))"
   ]
  },
  {
   "cell_type": "markdown",
   "metadata": {},
   "source": [
    "#### t-SNE visualization"
   ]
  },
  {
   "cell_type": "code",
   "execution_count": 169,
   "metadata": {},
   "outputs": [
    {
     "name": "stderr",
     "output_type": "stream",
     "text": [
      "/Users/sevenw/opt/miniconda3/lib/python3.7/site-packages/ipykernel_launcher.py:2: DeprecationWarning: Call to deprecated `__getitem__` (Method will be removed in 4.0.0, use self.wv.__getitem__() instead).\n",
      "  \n"
     ]
    }
   ],
   "source": [
    "# This assumes words_top_wiki is a list of strings, the top 1000 words\n",
    "words_top_vec_wiki = model_wiki[words_top_wiki]\n",
    "\n",
    "tsne = TSNE(n_components=2, random_state=0)\n",
    "words_top_wiki_tsne = tsne.fit_transform(words_top_vec_wiki)"
   ]
  },
  {
   "cell_type": "code",
   "execution_count": 170,
   "metadata": {},
   "outputs": [
    {
     "data": {
      "text/html": [
       "\n",
       "\n",
       "\n",
       "\n",
       "\n",
       "\n",
       "  <div class=\"bk-root\" id=\"4658d6a5-540f-4f6b-adee-06ead620c62b\" data-root-id=\"1389\"></div>\n"
      ]
     },
     "metadata": {},
     "output_type": "display_data"
    },
    {
     "data": {
      "application/javascript": [
       "(function(root) {\n",
       "  function embed_document(root) {\n",
       "    \n",
       "  var docs_json = {\"061038b0-0457-4741-8d27-1b322bcd3a1c\":{\"roots\":{\"references\":[{\"attributes\":{\"below\":[{\"id\":\"1400\",\"type\":\"LinearAxis\"}],\"center\":[{\"id\":\"1404\",\"type\":\"Grid\"},{\"id\":\"1409\",\"type\":\"Grid\"},{\"id\":\"1425\",\"type\":\"LabelSet\"}],\"left\":[{\"id\":\"1405\",\"type\":\"LinearAxis\"}],\"renderers\":[{\"id\":\"1423\",\"type\":\"GlyphRenderer\"}],\"title\":{\"id\":\"1390\",\"type\":\"Title\"},\"toolbar\":{\"id\":\"1414\",\"type\":\"Toolbar\"},\"toolbar_location\":\"above\",\"x_range\":{\"id\":\"1392\",\"type\":\"DataRange1d\"},\"x_scale\":{\"id\":\"1396\",\"type\":\"LinearScale\"},\"y_range\":{\"id\":\"1394\",\"type\":\"DataRange1d\"},\"y_scale\":{\"id\":\"1398\",\"type\":\"LinearScale\"}},\"id\":\"1389\",\"subtype\":\"Figure\",\"type\":\"Plot\"},{\"attributes\":{},\"id\":\"1413\",\"type\":\"SaveTool\"},{\"attributes\":{\"data_source\":{\"id\":\"1419\",\"type\":\"ColumnDataSource\"},\"glyph\":{\"id\":\"1421\",\"type\":\"Scatter\"},\"hover_glyph\":null,\"muted_glyph\":null,\"nonselection_glyph\":{\"id\":\"1422\",\"type\":\"Scatter\"},\"selection_glyph\":null,\"view\":{\"id\":\"1424\",\"type\":\"CDSView\"}},\"id\":\"1423\",\"type\":\"GlyphRenderer\"},{\"attributes\":{\"callback\":null},\"id\":\"1394\",\"type\":\"DataRange1d\"},{\"attributes\":{},\"id\":\"1457\",\"type\":\"BasicTickFormatter\"},{\"attributes\":{},\"id\":\"1459\",\"type\":\"BasicTickFormatter\"},{\"attributes\":{\"active_drag\":\"auto\",\"active_inspect\":\"auto\",\"active_multi\":null,\"active_scroll\":\"auto\",\"active_tap\":\"auto\",\"tools\":[{\"id\":\"1410\",\"type\":\"PanTool\"},{\"id\":\"1411\",\"type\":\"WheelZoomTool\"},{\"id\":\"1412\",\"type\":\"ResetTool\"},{\"id\":\"1413\",\"type\":\"SaveTool\"}]},\"id\":\"1414\",\"type\":\"Toolbar\"},{\"attributes\":{},\"id\":\"1406\",\"type\":\"BasicTicker\"},{\"attributes\":{\"callback\":null,\"data\":{\"names\":[\"the\",\"of\",\"and\",\"in\",\"to\",\"was\",\"on\",\"as\",\"for\",\"that\",\"with\",\"by\",\"is\",\"his\",\"at\",\"he\",\"from\",\"it\",\"were\",\"an\",\"had\",\"which\",\"be\",\"this\",\"but\",\"are\",\"first\",\"not\",\"their\",\"after\",\"one\",\"her\",\"also\",\"its\",\"they\",\"two\",\"or\",\"have\",\"who\",\"new\",\"been\",\"has\",\"she\",\"when\",\"time\",\"during\",\"other\",\"would\",\"into\",\"all\",\"more\",\"while\",\"over\",\"him\",\"game\",\"only\",\"later\",\"up\",\"most\",\"three\",\"about\",\"out\",\"between\",\"th\",\"than\",\"there\",\"some\",\"film\",\"may\",\"before\",\"year\",\"made\",\"no\",\"such\",\"second\",\"season\",\"where\",\"world\",\"war\",\"years\",\"both\",\"then\",\"however\",\"used\",\"being\",\"through\",\"them\",\"song\",\"these\",\"series\",\"against\",\"album\",\"many\",\"team\",\"city\",\"part\",\"north\",\"became\",\"number\",\"including\",\"can\",\"several\",\"united\",\"well\",\"four\",\"early\",\"under\",\"state\",\"south\",\"music\",\"day\",\"so\",\"episode\",\"following\",\"said\",\"states\",\"known\",\"although\",\"american\",\"could\",\"did\",\"work\",\"began\",\"until\",\"because\",\"released\",\"like\",\"called\",\"high\",\"people\",\"end\",\"british\",\"since\",\"around\",\"long\",\"each\",\"national\",\"life\",\"if\",\"found\",\"best\",\"september\",\"same\",\"west\",\"us\",\"million\",\"back\",\"along\",\"another\",\"five\",\"show\",\"took\",\"use\",\"you\",\"km\",\"any\",\"area\",\"final\",\"group\",\"off\",\"august\",\"century\",\"received\",\"october\",\"school\",\"due\",\"john\",\"what\",\"will\",\"line\",\"government\",\"june\",\"east\",\"system\",\"single\",\"march\",\"july\",\"home\",\"november\",\"games\",\"third\",\"much\",\"general\",\"april\",\"large\",\"set\",\"down\",\"major\",\"left\",\"based\",\"family\",\"york\",\"house\",\"place\",\"just\",\"we\",\"company\",\"army\",\"history\",\"december\",\"road\",\"played\",\"included\",\"name\",\"six\",\"king\",\"january\",\"band\",\"character\",\"now\",\"wrote\",\"won\",\"according\",\"led\",\"main\",\"within\",\"last\",\"own\",\"near\",\"described\",\"those\",\"times\",\"men\",\"death\",\"river\",\"video\",\"named\",\"next\",\"st\",\"air\",\"battle\",\"de\",\"release\",\"record\",\"late\",\"still\",\"make\",\"original\",\"top\",\"league\",\"way\",\"very\",\"ship\",\"species\",\"even\",\"great\",\"production\",\"man\",\"force\",\"route\",\"club\",\"small\",\"storm\",\"old\",\"public\",\"february\",\"again\",\"though\",\"built\",\"days\",\"held\",\"play\",\"among\",\"university\",\"further\",\"do\",\"role\",\"service\",\"division\",\"book\",\"french\",\"german\",\"side\",\"members\",\"story\",\"having\",\"white\",\"power\",\"match\",\"point\",\"player\",\"water\",\"often\",\"order\",\"career\",\"continued\",\"former\",\"park\",\"local\",\"black\",\"without\",\"came\",\"town\",\"despite\",\"england\",\"considered\",\"take\",\"party\",\"half\",\"island\",\"few\",\"county\",\"support\",\"form\",\"songs\",\"development\",\"version\",\"moved\",\"written\",\"period\",\"military\",\"different\",\"become\",\"english\",\"lost\",\"forces\",\"building\",\"given\",\"court\",\"tropical\",\"president\",\"ii\",\"country\",\"little\",\"london\",\"international\",\"re\",\"my\",\"church\",\"gave\",\"performance\",\"similar\",\"lead\",\"tour\",\"attack\",\"street\",\"never\",\"returned\",\"track\",\"using\",\"published\",\"royal\",\"produced\",\"short\",\"went\",\"position\",\"class\",\"recorded\",\"children\",\"television\",\"stated\",\"land\",\"aircraft\",\"highway\",\"total\",\"western\",\"run\",\"ships\",\"good\",\"live\",\"how\",\"making\",\"control\",\"include\",\"father\",\"week\",\"star\",\"per\",\"women\",\"fire\",\"throughout\",\"upon\",\"right\",\"once\",\"love\",\"himself\",\"australia\",\"head\",\"me\",\"less\",\"characters\",\"central\",\"design\",\"age\",\"players\",\"light\",\"instead\",\"young\",\"title\",\"away\",\"writing\",\"rock\",\"seven\",\"across\",\"months\",\"remained\",\"red\",\"ten\",\"sea\",\"return\",\"developed\",\"station\",\"previous\",\"result\",\"ft\",\"political\",\"night\",\"law\",\"died\",\"southern\",\"eight\",\"hurricane\",\"james\",\"low\",\"center\",\"too\",\"reported\",\"office\",\"areas\",\"felt\",\"noted\",\"various\",\"eventually\",\"william\",\"race\",\"america\",\"style\",\"announced\",\"created\",\"son\",\"field\",\"reached\",\"miles\",\"win\",\"act\",\"college\",\"construction\",\"should\",\"award\",\"sent\",\"japanese\",\"seen\",\"followed\",\"together\",\"performed\",\"served\",\"member\",\"full\",\"northern\",\"range\",\"level\",\"common\",\"able\",\"killed\",\"taken\",\"campaign\",\"mm\",\"works\",\"points\",\"action\",\"established\",\"chart\",\"originally\",\"born\",\"success\",\"body\",\"george\",\"others\",\"front\",\"appeared\",\"thought\",\"australian\",\"modern\",\"features\",\"located\",\"project\",\"post\",\"special\",\"playing\",\"get\",\"started\",\"stage\",\"football\",\"caused\",\"addition\",\"bridge\",\"critics\",\"feet\",\"rather\",\"present\",\"fourth\",\"decided\",\"behind\",\"site\",\"formed\",\"added\",\"heavy\",\"sold\",\"every\",\"championship\",\"go\",\"popular\",\"director\",\"strong\",\"saw\",\"see\",\"completed\",\"damage\",\"population\",\"almost\",\"command\",\"important\",\"close\",\"soon\",\"fleet\",\"initially\",\"open\",\"eastern\",\"david\",\"art\",\"awards\",\"kingdom\",\"opened\",\"non\",\"guns\",\"case\",\"ground\",\"region\",\"leading\",\"weeks\",\"free\",\"coast\",\"worked\",\"mi\",\"working\",\"mother\",\"france\",\"towards\",\"hall\",\"event\",\"union\",\"michael\",\"recording\",\"scene\",\"ever\",\"sound\",\"scored\",\"help\",\"provided\",\"training\",\"least\",\"wanted\",\"records\",\"brought\",\"featured\",\"henry\",\"either\",\"navy\",\"cup\",\"allowed\",\"average\",\"put\",\"does\",\"wife\",\"victory\",\"generally\",\"troops\",\"hit\",\"placed\",\"studio\",\"events\",\"runs\",\"magazine\",\"far\",\"example\",\"washington\",\"europe\",\"council\",\"mid\",\"designed\",\"joined\",\"co\",\"summer\",\"human\",\"hours\",\"list\",\"nine\",\"opening\",\"believed\",\"robert\",\"start\",\"replaced\",\"official\",\"media\",\"japan\",\"al\",\"base\",\"involved\",\"squadron\",\"earlier\",\"police\",\"european\",\"rest\",\"operation\",\"minutes\",\"brown\",\"finished\",\"society\",\"successful\",\"met\",\"saying\",\"possible\",\"radio\",\"significant\",\"month\",\"crew\",\"shot\",\"highest\",\"particularly\",\"big\",\"largest\",\"review\",\"association\",\"films\",\"test\",\"beginning\",\"process\",\"available\",\"mph\",\"change\",\"forced\",\"research\",\"captain\",\"taking\",\"outside\",\"cast\",\"better\",\"increased\",\"turned\",\"come\",\"ended\",\"must\",\"social\",\"stone\",\"reviews\",\"section\",\"real\",\"lower\",\"passed\",\"community\",\"praised\",\"units\",\"san\",\"going\",\"business\",\"relationship\",\"middle\",\"future\",\"appearance\",\"move\",\"charles\",\"above\",\"thus\",\"space\",\"goal\",\"additional\",\"hill\",\"canada\",\"enough\",\"chief\",\"winds\",\"ordered\",\"previously\",\"thomas\",\"signed\",\"cross\",\"elements\",\"gold\",\"rights\",\"board\",\"program\",\"positive\",\"staff\",\"california\",\"round\",\"parts\",\"lake\",\"infantry\",\"critical\",\"interest\",\"spent\",\"female\",\"don\",\"give\",\"plan\",\"told\",\"castle\",\"find\",\"gun\",\"lines\",\"musical\",\"overall\",\"type\",\"attempt\",\"brother\",\"committee\",\"directed\",\"failed\",\"paul\",\"money\",\"groups\",\"required\",\"news\",\"hand\",\"itself\",\"evidence\",\"sometimes\",\"india\",\"germany\",\"prior\",\"grand\",\"district\",\"entire\",\"cover\",\"term\",\"asked\",\"personal\",\"port\",\"election\",\"reception\",\"battalion\",\"whose\",\"room\",\"study\",\"claimed\",\"already\",\"complete\",\"uk\",\"our\",\"bill\",\"introduced\",\"smith\",\"whom\",\"plot\",\"background\",\"square\",\"turn\",\"green\",\"usually\",\"novel\",\"past\",\"indian\",\"students\",\"person\",\"idea\",\"quickly\",\"limited\",\"score\",\"education\",\"governor\",\"loss\",\"press\",\"effects\",\"speed\",\"stars\",\"response\",\"movement\",\"issue\",\"flight\",\"surface\",\"food\",\"ny\",\"debut\",\"especially\",\"arrived\",\"anti\",\"commander\",\"peter\",\"minister\",\"decision\",\"britain\",\"services\",\"woman\",\"blue\",\"la\",\"mark\",\"fifth\",\"village\",\"teams\",\"bay\",\"shows\",\"structure\",\"department\",\"larger\",\"industry\",\"operations\",\"queen\",\"episodes\",\"becoming\",\"science\",\"earth\",\"centre\",\"voice\",\"length\",\"remaining\",\"material\",\"carried\",\"defeated\",\"living\",\"estimated\",\"writer\",\"richard\",\"cut\",\"latter\",\"pressure\",\"car\",\"civil\",\"scenes\",\"commercial\",\"leaving\",\"changes\",\"god\",\"might\",\"virginia\",\"running\",\"suggested\",\"entered\",\"nearly\",\"los\",\"influence\",\"report\",\"appointed\",\"depression\",\"date\",\"pop\",\"approximately\",\"winning\",\"language\",\"naval\",\"view\",\"empire\",\"shortly\",\"islands\",\"finally\",\"child\",\"self\",\"today\",\"network\",\"dark\",\"proposed\",\"daughter\",\"leader\",\"course\",\"tracks\",\"hot\",\"destroyed\",\"higher\",\"percent\",\"wide\",\"experience\",\"current\",\"size\",\"provide\",\"spanish\",\"fact\",\"railway\",\"subsequently\",\"nature\",\"lack\",\"compared\",\"intended\",\"producer\",\"brigade\",\"immediately\",\"face\",\"married\",\"soviet\",\"supported\",\"regular\",\"agreed\",\"cost\",\"awarded\",\"whether\",\"helped\",\"natural\",\"nd\",\"fans\",\"contract\",\"planned\",\"manager\",\"related\",\"professional\",\"chicago\",\"health\",\"officer\",\"museum\",\"create\",\"chinese\",\"upper\",\"longer\",\"soldiers\",\"your\",\"fort\",\"guitar\",\"done\",\"trade\",\"ball\",\"plans\",\"buildings\",\"captured\",\"appear\",\"changed\",\"jackson\",\"corps\",\"private\",\"associated\",\"yet\",\"federal\",\"friends\",\"officers\",\"something\",\"effect\",\"feature\",\"mostly\",\"singles\",\"remains\",\"themselves\",\"cm\",\"regiment\",\"edward\",\"billboard\",\"initial\",\"lord\",\"countries\",\"lyrics\",\"books\",\"probably\",\"extended\",\"mixed\",\"key\",\"pacific\",\"numerous\",\"minor\",\"moving\",\"really\",\"friend\",\"forward\",\"got\",\"information\",\"johnson\",\"always\",\"location\",\"copies\",\"issued\",\"difficult\",\"energy\",\"leave\",\"atlantic\",\"status\",\"ran\",\"includes\",\"singer\",\"conference\",\"suffered\",\"via\",\"christian\",\"dance\",\"pass\",\"problems\",\"unit\",\"likely\",\"florida\",\"meeting\",\"dead\",\"know\",\"increase\",\"fight\",\"edition\",\"roman\",\"cause\",\"removed\",\"pre\",\"inspired\",\"albums\",\"independent\",\"china\",\"wind\",\"poor\",\"texas\",\"fell\",\"majority\",\"terms\",\"primary\",\"offered\",\"keep\",\"movie\",\"minute\",\"broadcast\",\"winter\",\"creek\"],\"x1\":{\"__ndarray__\":\"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\",\"dtype\":\"float32\",\"shape\":[1000]},\"x2\":{\"__ndarray__\":\"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\",\"dtype\":\"float32\",\"shape\":[1000]}},\"selected\":{\"id\":\"1461\",\"type\":\"Selection\"},\"selection_policy\":{\"id\":\"1460\",\"type\":\"UnionRenderers\"}},\"id\":\"1419\",\"type\":\"ColumnDataSource\"},{\"attributes\":{},\"id\":\"1460\",\"type\":\"UnionRenderers\"},{\"attributes\":{\"ticker\":{\"id\":\"1401\",\"type\":\"BasicTicker\"}},\"id\":\"1404\",\"type\":\"Grid\"},{\"attributes\":{\"fill_color\":{\"value\":\"#1f77b4\"},\"line_color\":{\"value\":\"#1f77b4\"},\"size\":{\"units\":\"screen\",\"value\":8},\"x\":{\"field\":\"x1\"},\"y\":{\"field\":\"x2\"}},\"id\":\"1421\",\"type\":\"Scatter\"},{\"attributes\":{},\"id\":\"1401\",\"type\":\"BasicTicker\"},{\"attributes\":{\"text\":\"word2vec T-SNE for most common words\"},\"id\":\"1390\",\"type\":\"Title\"},{\"attributes\":{\"formatter\":{\"id\":\"1459\",\"type\":\"BasicTickFormatter\"},\"ticker\":{\"id\":\"1401\",\"type\":\"BasicTicker\"}},\"id\":\"1400\",\"type\":\"LinearAxis\"},{\"attributes\":{},\"id\":\"1398\",\"type\":\"LinearScale\"},{\"attributes\":{\"source\":{\"id\":\"1419\",\"type\":\"ColumnDataSource\"},\"text\":{\"field\":\"names\"},\"text_align\":\"center\",\"text_color\":{\"value\":\"#555555\"},\"text_font_size\":{\"value\":\"8pt\"},\"x\":{\"field\":\"x1\"},\"y\":{\"field\":\"x2\"},\"y_offset\":{\"value\":6}},\"id\":\"1425\",\"type\":\"LabelSet\"},{\"attributes\":{\"formatter\":{\"id\":\"1457\",\"type\":\"BasicTickFormatter\"},\"ticker\":{\"id\":\"1406\",\"type\":\"BasicTicker\"}},\"id\":\"1405\",\"type\":\"LinearAxis\"},{\"attributes\":{},\"id\":\"1412\",\"type\":\"ResetTool\"},{\"attributes\":{},\"id\":\"1461\",\"type\":\"Selection\"},{\"attributes\":{\"dimension\":1,\"ticker\":{\"id\":\"1406\",\"type\":\"BasicTicker\"}},\"id\":\"1409\",\"type\":\"Grid\"},{\"attributes\":{},\"id\":\"1410\",\"type\":\"PanTool\"},{\"attributes\":{\"callback\":null},\"id\":\"1392\",\"type\":\"DataRange1d\"},{\"attributes\":{\"source\":{\"id\":\"1419\",\"type\":\"ColumnDataSource\"}},\"id\":\"1424\",\"type\":\"CDSView\"},{\"attributes\":{\"fill_alpha\":{\"value\":0.1},\"fill_color\":{\"value\":\"#1f77b4\"},\"line_alpha\":{\"value\":0.1},\"line_color\":{\"value\":\"#1f77b4\"},\"size\":{\"units\":\"screen\",\"value\":8},\"x\":{\"field\":\"x1\"},\"y\":{\"field\":\"x2\"}},\"id\":\"1422\",\"type\":\"Scatter\"},{\"attributes\":{},\"id\":\"1396\",\"type\":\"LinearScale\"},{\"attributes\":{},\"id\":\"1411\",\"type\":\"WheelZoomTool\"}],\"root_ids\":[\"1389\"]},\"title\":\"Bokeh Application\",\"version\":\"1.4.0\"}};\n",
       "  var render_items = [{\"docid\":\"061038b0-0457-4741-8d27-1b322bcd3a1c\",\"roots\":{\"1389\":\"4658d6a5-540f-4f6b-adee-06ead620c62b\"}}];\n",
       "  root.Bokeh.embed.embed_items_notebook(docs_json, render_items);\n",
       "\n",
       "  }\n",
       "  if (root.Bokeh !== undefined) {\n",
       "    embed_document(root);\n",
       "  } else {\n",
       "    var attempts = 0;\n",
       "    var timer = setInterval(function(root) {\n",
       "      if (root.Bokeh !== undefined) {\n",
       "        clearInterval(timer);\n",
       "        embed_document(root);\n",
       "      } else {\n",
       "        attempts++;\n",
       "        if (attempts > 100) {\n",
       "          clearInterval(timer);\n",
       "          console.log(\"Bokeh: ERROR: Unable to run BokehJS code because BokehJS library is missing\");\n",
       "        }\n",
       "      }\n",
       "    }, 10, root)\n",
       "  }\n",
       "})(window);"
      ],
      "application/vnd.bokehjs_exec.v0+json": ""
     },
     "metadata": {
      "application/vnd.bokehjs_exec.v0+json": {
       "id": "1389"
      }
     },
     "output_type": "display_data"
    }
   ],
   "source": [
    "p = figure(tools=\"pan,wheel_zoom,reset,save\",\n",
    "           toolbar_location=\"above\",\n",
    "           title=\"word2vec T-SNE for most common words\")\n",
    "\n",
    "source = ColumnDataSource(data=dict(x1=words_top_wiki_tsne[:,0],\n",
    "                                    x2=words_top_wiki_tsne[:,1],\n",
    "                                    names=words_top_wiki))\n",
    "\n",
    "p.scatter(x=\"x1\", y=\"x2\", size=8, source=source)\n",
    "\n",
    "labels = LabelSet(x=\"x1\", y=\"x2\", text=\"names\", y_offset=6,\n",
    "                  text_font_size=\"8pt\", text_color=\"#555555\",\n",
    "                  source=source, text_align='center')\n",
    "p.add_layout(labels)\n",
    "\n",
    "show(p)"
   ]
  },
  {
   "cell_type": "code",
   "execution_count": null,
   "metadata": {},
   "outputs": [],
   "source": []
  }
 ],
 "metadata": {
  "anaconda-cloud": {},
  "kernelspec": {
   "display_name": "Python 3",
   "language": "python",
   "name": "python3"
  },
  "language_info": {
   "codemirror_mode": {
    "name": "ipython",
    "version": 3
   },
   "file_extension": ".py",
   "mimetype": "text/x-python",
   "name": "python",
   "nbconvert_exporter": "python",
   "pygments_lexer": "ipython3",
   "version": "3.7.4"
  }
 },
 "nbformat": 4,
 "nbformat_minor": 1
}
